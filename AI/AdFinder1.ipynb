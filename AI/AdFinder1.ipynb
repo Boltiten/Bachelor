{
 "cells": [
  {
   "cell_type": "code",
   "execution_count": 1,
   "metadata": {},
   "outputs": [],
   "source": [
    "from IPython.display import Audio\n",
    "import librosa\n",
    "import os"
   ]
  },
  {
   "cell_type": "code",
   "execution_count": 2,
   "metadata": {},
   "outputs": [],
   "source": [
    "def cut_song(song):\n",
    "    start = 0\n",
    "    end = len(song)\n",
    "    song_pieces = []\n",
    "    while start + 100000 < end:\n",
    "        song_pieces.append(song[start:start+100000])\n",
    "        start += 100000\n",
    "    return song_pieces\n",
    "\n",
    "def prepare_song(song_path):\n",
    "    list_matrices = []\n",
    "    y,sr = librosa.load(song_path,sr=22050)\n",
    "    song_pieces = cut_song(y)\n",
    "    for song_piece in song_pieces:\n",
    "        melspec = librosa.feature.melspectrogram(song_piece)\n",
    "        list_matrices.append(melspec)\n",
    "    return list_matrices"
   ]
  },
  {
   "cell_type": "code",
   "execution_count": 3,
   "metadata": {},
   "outputs": [
    {
     "name": "stderr",
     "output_type": "stream",
     "text": [
      "/tmp/ipykernel_19598/1280924959.py:15: FutureWarning: Pass y=[-4.8529014e-06  2.5312231e-06  4.6466816e-06 ... -7.5968087e-02\n",
      " -7.4590467e-02 -7.3014274e-02] as keyword args. From version 0.10 passing these as positional arguments will result in an error\n",
      "  melspec = librosa.feature.melspectrogram(song_piece)\n"
     ]
    },
    {
     "name": "stdout",
     "output_type": "stream",
     "text": [
      "Finished: looperman-l-4498998-0290963-uplifting-pop-rock-guitar-riff.wav\n"
     ]
    },
    {
     "name": "stderr",
     "output_type": "stream",
     "text": [
      "/tmp/ipykernel_19598/1280924959.py:15: FutureWarning: Pass y=[-1.83405427e-06  1.90673722e-06 -1.86144121e-06 ... -1.74299926e-01\n",
      " -1.09364815e-01 -9.73854959e-02] as keyword args. From version 0.10 passing these as positional arguments will result in an error\n",
      "  melspec = librosa.feature.melspectrogram(song_piece)\n",
      "/tmp/ipykernel_19598/1280924959.py:15: FutureWarning: Pass y=[-0.06886499 -0.06950256 -0.0686608  ...  0.11670823  0.07282049\n",
      "  0.06376683] as keyword args. From version 0.10 passing these as positional arguments will result in an error\n",
      "  melspec = librosa.feature.melspectrogram(song_piece)\n"
     ]
    },
    {
     "name": "stdout",
     "output_type": "stream",
     "text": [
      "Finished: looperman-l-4413470-0291047-metacem.wav\n"
     ]
    },
    {
     "name": "stderr",
     "output_type": "stream",
     "text": [
      "/tmp/ipykernel_19598/1280924959.py:15: FutureWarning: Pass y=[-1.8634262e-04 -2.6022450e-05  6.1246537e-04 ...  7.4238867e-02\n",
      " -1.2026676e-02 -8.6317763e-02] as keyword args. From version 0.10 passing these as positional arguments will result in an error\n",
      "  melspec = librosa.feature.melspectrogram(song_piece)\n",
      "/tmp/ipykernel_19598/1280924959.py:15: FutureWarning: Pass y=[-0.08924267 -0.02210454  0.08209094 ... -0.01076644 -0.03695918\n",
      "  0.00257575] as keyword args. From version 0.10 passing these as positional arguments will result in an error\n",
      "  melspec = librosa.feature.melspectrogram(song_piece)\n"
     ]
    },
    {
     "name": "stdout",
     "output_type": "stream",
     "text": [
      "Finished: looperman-l-1700729-0291898-young-mgk-x-jxdn-live-guitars-by-tahtx.wav\n"
     ]
    },
    {
     "name": "stderr",
     "output_type": "stream",
     "text": [
      "/tmp/ipykernel_19598/1280924959.py:15: FutureWarning: Pass y=[ 0.0051687   0.00667711  0.00499291 ...  0.13833243  0.05819455\n",
      " -0.05042771] as keyword args. From version 0.10 passing these as positional arguments will result in an error\n",
      "  melspec = librosa.feature.melspectrogram(song_piece)\n",
      "/tmp/ipykernel_19598/1280924959.py:15: FutureWarning: Pass y=[-0.06455012  0.01715936  0.08543497 ... -0.00327429 -0.00359044\n",
      " -0.0046817 ] as keyword args. From version 0.10 passing these as positional arguments will result in an error\n",
      "  melspec = librosa.feature.melspectrogram(song_piece)\n"
     ]
    },
    {
     "name": "stdout",
     "output_type": "stream",
     "text": [
      "Finished: looperman-l-1700729-0291899-mirror-mgk-x-jxdn-guitars-by-tahto.wav\n"
     ]
    },
    {
     "name": "stderr",
     "output_type": "stream",
     "text": [
      "/tmp/ipykernel_19598/1280924959.py:15: FutureWarning: Pass y=[ 1.0783642e-06 -1.3520693e-06  2.1193212e-06 ...  8.4498111e-04\n",
      " -2.6697461e-02 -7.2519131e-02] as keyword args. From version 0.10 passing these as positional arguments will result in an error\n",
      "  melspec = librosa.feature.melspectrogram(song_piece)\n",
      "/tmp/ipykernel_19598/1280924959.py:15: FutureWarning: Pass y=[-0.10368963 -0.0915997  -0.0313613  ... -0.00802892 -0.00621349\n",
      " -0.00493944] as keyword args. From version 0.10 passing these as positional arguments will result in an error\n",
      "  melspec = librosa.feature.melspectrogram(song_piece)\n",
      "/tmp/ipykernel_19598/1280924959.py:15: FutureWarning: Pass y=[-0.00397826 -0.00278998 -0.00115988 ... -0.07034889 -0.07774335\n",
      " -0.06767198] as keyword args. From version 0.10 passing these as positional arguments will result in an error\n",
      "  melspec = librosa.feature.melspectrogram(song_piece)\n",
      "/tmp/ipykernel_19598/1280924959.py:15: FutureWarning: Pass y=[-0.05763476 -0.05648817 -0.0559426  ...  0.01398731 -0.03064389\n",
      " -0.03226879] as keyword args. From version 0.10 passing these as positional arguments will result in an error\n",
      "  melspec = librosa.feature.melspectrogram(song_piece)\n"
     ]
    },
    {
     "name": "stdout",
     "output_type": "stream",
     "text": [
      "Finished: looperman-l-3588536-0292149-alt-rock-guitar-sample-x-dead-rose-x.wav\n"
     ]
    },
    {
     "name": "stderr",
     "output_type": "stream",
     "text": [
      "/tmp/ipykernel_19598/1280924959.py:15: FutureWarning: Pass y=[-0.06671568 -0.08883873 -0.06644913 ...  0.04586575  0.16525492\n",
      "  0.2243282 ] as keyword args. From version 0.10 passing these as positional arguments will result in an error\n",
      "  melspec = librosa.feature.melspectrogram(song_piece)\n",
      "/tmp/ipykernel_19598/1280924959.py:15: FutureWarning: Pass y=[0.1904464  0.10142477 0.02041606 ... 0.0573091  0.07982113 0.09405769] as keyword args. From version 0.10 passing these as positional arguments will result in an error\n",
      "  melspec = librosa.feature.melspectrogram(song_piece)\n"
     ]
    },
    {
     "name": "stdout",
     "output_type": "stream",
     "text": [
      "Finished: looperman-l-3836200-0292174-pop-punk-type-guitar-mellow.wav\n"
     ]
    },
    {
     "name": "stderr",
     "output_type": "stream",
     "text": [
      "/tmp/ipykernel_19598/1280924959.py:15: FutureWarning: Pass y=[-0.00556567 -0.00728096 -0.00554058 ... -0.03181583  0.0032948\n",
      "  0.0350459 ] as keyword args. From version 0.10 passing these as positional arguments will result in an error\n",
      "  melspec = librosa.feature.melspectrogram(song_piece)\n",
      "/tmp/ipykernel_19598/1280924959.py:15: FutureWarning: Pass y=[ 0.03666811  0.01697032 -0.01427807 ...  0.0582982   0.02634306\n",
      "  0.01478351] as keyword args. From version 0.10 passing these as positional arguments will result in an error\n",
      "  melspec = librosa.feature.melspectrogram(song_piece)\n",
      "/tmp/ipykernel_19598/1280924959.py:15: FutureWarning: Pass y=[0.01769446 0.02961169 0.0529367  ... 0.05340378 0.05373599 0.03643589] as keyword args. From version 0.10 passing these as positional arguments will result in an error\n",
      "  melspec = librosa.feature.melspectrogram(song_piece)\n",
      "/tmp/ipykernel_19598/1280924959.py:15: FutureWarning: Pass y=[-0.00986077 -0.03131054 -0.01311062 ...  0.04499621  0.05775112\n",
      "  0.04937743] as keyword args. From version 0.10 passing these as positional arguments will result in an error\n",
      "  melspec = librosa.feature.melspectrogram(song_piece)\n"
     ]
    },
    {
     "name": "stdout",
     "output_type": "stream",
     "text": [
      "Finished: looperman-l-3836200-0292438-j-rock-type-guitar-far-away.wav\n"
     ]
    },
    {
     "name": "stderr",
     "output_type": "stream",
     "text": [
      "/tmp/ipykernel_19598/1280924959.py:15: FutureWarning: Pass y=[ 3.7292293e-07 -5.7060555e-07  7.9046174e-07 ...  1.0310257e-01\n",
      "  9.3128152e-02  8.5205898e-02] as keyword args. From version 0.10 passing these as positional arguments will result in an error\n",
      "  melspec = librosa.feature.melspectrogram(song_piece)\n",
      "/tmp/ipykernel_19598/1280924959.py:15: FutureWarning: Pass y=[ 0.07875866  0.07607768  0.07676722 ... -0.01411136 -0.02115872\n",
      " -0.02578409] as keyword args. From version 0.10 passing these as positional arguments will result in an error\n",
      "  melspec = librosa.feature.melspectrogram(song_piece)\n",
      "/tmp/ipykernel_19598/1280924959.py:15: FutureWarning: Pass y=[-0.02441185 -0.0146154  -0.00893934 ... -0.01637164 -0.04470396\n",
      " -0.05146866] as keyword args. From version 0.10 passing these as positional arguments will result in an error\n",
      "  melspec = librosa.feature.melspectrogram(song_piece)\n",
      "/tmp/ipykernel_19598/1280924959.py:15: FutureWarning: Pass y=[-0.04665658 -0.03902031 -0.03750168 ... -0.16374712 -0.14626561\n",
      " -0.13012415] as keyword args. From version 0.10 passing these as positional arguments will result in an error\n",
      "  melspec = librosa.feature.melspectrogram(song_piece)\n",
      "/tmp/ipykernel_19598/1280924959.py:15: FutureWarning: Pass y=[-0.11140378 -0.08374818 -0.05338272 ...  0.06593685  0.0584791\n",
      "  0.04775886] as keyword args. From version 0.10 passing these as positional arguments will result in an error\n",
      "  melspec = librosa.feature.melspectrogram(song_piece)\n",
      "/tmp/ipykernel_19598/1280924959.py:15: FutureWarning: Pass y=[0.03429576 0.02112733 0.0103225  ... 0.10650889 0.09774789 0.08069117] as keyword args. From version 0.10 passing these as positional arguments will result in an error\n",
      "  melspec = librosa.feature.melspectrogram(song_piece)\n"
     ]
    },
    {
     "name": "stdout",
     "output_type": "stream",
     "text": [
      "Finished: looperman-l-2345833-0276065-evan-beatz-country.wav\n"
     ]
    },
    {
     "name": "stderr",
     "output_type": "stream",
     "text": [
      "/tmp/ipykernel_19598/1280924959.py:15: FutureWarning: Pass y=[-4.0940272e-06  1.5582669e-06 -3.8137383e-04 ... -2.6305852e-02\n",
      " -2.3695878e-03  1.5752980e-02] as keyword args. From version 0.10 passing these as positional arguments will result in an error\n",
      "  melspec = librosa.feature.melspectrogram(song_piece)\n",
      "/tmp/ipykernel_19598/1280924959.py:15: FutureWarning: Pass y=[0.0349405  0.05418792 0.07562196 ... 0.22204812 0.21861064 0.20856407] as keyword args. From version 0.10 passing these as positional arguments will result in an error\n",
      "  melspec = librosa.feature.melspectrogram(song_piece)\n",
      "/tmp/ipykernel_19598/1280924959.py:15: FutureWarning: Pass y=[0.1965305  0.18739767 0.18648441 ... 0.15833074 0.10195086 0.07923881] as keyword args. From version 0.10 passing these as positional arguments will result in an error\n",
      "  melspec = librosa.feature.melspectrogram(song_piece)\n"
     ]
    },
    {
     "name": "stdout",
     "output_type": "stream",
     "text": [
      "Finished: looperman-l-4018687-0281843-country-roads.wav\n"
     ]
    },
    {
     "name": "stderr",
     "output_type": "stream",
     "text": [
      "/tmp/ipykernel_19598/1280924959.py:15: FutureWarning: Pass y=[ 9.8898590e-07 -2.3797513e-05 -1.5551021e-04 ... -1.6803175e-01\n",
      " -1.8717614e-01 -1.9848648e-01] as keyword args. From version 0.10 passing these as positional arguments will result in an error\n",
      "  melspec = librosa.feature.melspectrogram(song_piece)\n",
      "/tmp/ipykernel_19598/1280924959.py:15: FutureWarning: Pass y=[-0.20498388 -0.20618089 -0.19882603 ...  0.16668645  0.16879416\n",
      "  0.17066213] as keyword args. From version 0.10 passing these as positional arguments will result in an error\n",
      "  melspec = librosa.feature.melspectrogram(song_piece)\n"
     ]
    },
    {
     "name": "stdout",
     "output_type": "stream",
     "text": [
      "Finished: looperman-l-4042820-0282624-dusted-country-guitar.wav\n"
     ]
    },
    {
     "name": "stderr",
     "output_type": "stream",
     "text": [
      "/tmp/ipykernel_19598/1280924959.py:15: FutureWarning: Pass y=[-8.3655672e-05 -1.9969642e-03 -3.8040846e-03 ... -7.1099132e-02\n",
      " -6.9000237e-02 -7.7789165e-02] as keyword args. From version 0.10 passing these as positional arguments will result in an error\n",
      "  melspec = librosa.feature.melspectrogram(song_piece)\n",
      "/tmp/ipykernel_19598/1280924959.py:15: FutureWarning: Pass y=[-0.08219541 -0.08031594 -0.07200429 ...  0.2872449   0.2556479\n",
      "  0.24660501] as keyword args. From version 0.10 passing these as positional arguments will result in an error\n",
      "  melspec = librosa.feature.melspectrogram(song_piece)\n"
     ]
    },
    {
     "name": "stdout",
     "output_type": "stream",
     "text": [
      "Finished: looperman-l-3588536-0287562-country-guitar-sample-x-working-all-day-x.wav\n"
     ]
    },
    {
     "name": "stderr",
     "output_type": "stream",
     "text": [
      "/tmp/ipykernel_19598/1280924959.py:15: FutureWarning: Pass y=[-4.09673575e-08 -1.93018455e-08  1.06246155e-07 ...  7.29687065e-02\n",
      "  8.04282501e-02  8.94497409e-02] as keyword args. From version 0.10 passing these as positional arguments will result in an error\n",
      "  melspec = librosa.feature.melspectrogram(song_piece)\n",
      "/tmp/ipykernel_19598/1280924959.py:15: FutureWarning: Pass y=[0.09350242 0.10177475 0.11713385 ... 0.06727943 0.09894822 0.12970006] as keyword args. From version 0.10 passing these as positional arguments will result in an error\n",
      "  melspec = librosa.feature.melspectrogram(song_piece)\n",
      "/tmp/ipykernel_19598/1280924959.py:15: FutureWarning: Pass y=[0.15433234 0.17113537 0.18319513 ... 0.0298072  0.03108137 0.0329059 ] as keyword args. From version 0.10 passing these as positional arguments will result in an error\n",
      "  melspec = librosa.feature.melspectrogram(song_piece)\n"
     ]
    },
    {
     "name": "stdout",
     "output_type": "stream",
     "text": [
      "Finished: looperman-l-4984670-0289625-guitar-from-sad-country.wav\n"
     ]
    },
    {
     "name": "stderr",
     "output_type": "stream",
     "text": [
      "/tmp/ipykernel_19598/1280924959.py:15: FutureWarning: Pass y=[ 0.0002364   0.00238793  0.00435882 ... -0.22332142 -0.1975678\n",
      " -0.16330042] as keyword args. From version 0.10 passing these as positional arguments will result in an error\n",
      "  melspec = librosa.feature.melspectrogram(song_piece)\n",
      "/tmp/ipykernel_19598/1280924959.py:15: FutureWarning: Pass y=[-0.13371417 -0.12786683 -0.13070086 ...  0.11065204  0.12735581\n",
      "  0.1553804 ] as keyword args. From version 0.10 passing these as positional arguments will result in an error\n",
      "  melspec = librosa.feature.melspectrogram(song_piece)\n",
      "/tmp/ipykernel_19598/1280924959.py:15: FutureWarning: Pass y=[0.17502749 0.17928192 0.17989503 ... 0.2169202  0.23554865 0.23048982] as keyword args. From version 0.10 passing these as positional arguments will result in an error\n",
      "  melspec = librosa.feature.melspectrogram(song_piece)\n"
     ]
    },
    {
     "name": "stdout",
     "output_type": "stream",
     "text": [
      "Finished: looperman-l-3588536-0290696-country-guitar-sample-x-outside-x.wav\n",
      "Finished: looperman-l-3588536-0292541-country-guitar-sample-x-she-knows-x.wav\n"
     ]
    },
    {
     "name": "stderr",
     "output_type": "stream",
     "text": [
      "/tmp/ipykernel_19598/1280924959.py:15: FutureWarning: Pass y=[-0.00032554 -0.0031134  -0.00587646 ...  0.11784431 -0.06568421\n",
      " -0.13612689] as keyword args. From version 0.10 passing these as positional arguments will result in an error\n",
      "  melspec = librosa.feature.melspectrogram(song_piece)\n",
      "/tmp/ipykernel_19598/1280924959.py:15: FutureWarning: Pass y=[-0.08261281 -0.01584004 -0.0024381  ... -0.10799524 -0.11269847\n",
      " -0.11640335] as keyword args. From version 0.10 passing these as positional arguments will result in an error\n",
      "  melspec = librosa.feature.melspectrogram(song_piece)\n"
     ]
    }
   ],
   "source": [
    "all_tracks = []\n",
    "genre = []\n",
    "directory = '/media/morten/T7/Podcasts/ad'\n",
    "\n",
    "for song_name in os.listdir(directory):\n",
    "    song_pieces = prepare_song(directory + '/' + song_name)\n",
    "    all_tracks += song_pieces\n",
    "    genre += ([0]*len(song_pieces))\n",
    "    print(f\"Finished: {song_name}\")\n",
    "\n",
    "directory = '/media/morten/T7/Podcasts/noad'\n",
    "for song_name in os.listdir(directory):\n",
    "    song_pieces = prepare_song(directory + '/' + song_name)\n",
    "    all_tracks += song_pieces\n",
    "    genre += ([1]*len(song_pieces))\n",
    "    print(f\"Finished: {song_name}\")"
   ]
  },
  {
   "cell_type": "code",
   "execution_count": 4,
   "metadata": {},
   "outputs": [],
   "source": [
    "import numpy as np\n",
    "from sklearn.model_selection import train_test_split"
   ]
  },
  {
   "cell_type": "code",
   "execution_count": 5,
   "metadata": {},
   "outputs": [
    {
     "name": "stdout",
     "output_type": "stream",
     "text": [
      "(25, 128, 196)\n",
      "(6, 128, 196)\n",
      "(7, 128, 196)\n",
      "(25, 128, 196, 1)\n"
     ]
    }
   ],
   "source": [
    "X_train, X_test, y_train, y_test = train_test_split(np.array(all_tracks),\n",
    "                                                    np.array(genre),\n",
    "                                                    test_size=0.33,\n",
    "                                                    random_state=42)\n",
    "\n",
    "\n",
    "X_val, X_test, y_val, y_test = train_test_split(X_test,\n",
    "                                                y_test, \n",
    "                                                test_size=0.5,\n",
    "                                                random_state=42)\n",
    "print(X_train.shape)\n",
    "print(X_val.shape)\n",
    "print(X_test.shape)\n",
    "X_train = X_train.reshape(X_train.shape[0], X_train.shape[1], X_train.shape[2],1)\n",
    "X_val = X_val.reshape(X_val.shape[0], X_val.shape[1], X_val.shape[2],1)\n",
    "X_test = X_test.reshape(X_test.shape[0], X_test.shape[1], X_test.shape[2],1)\n",
    "print(X_train.shape)\n"
   ]
  },
  {
   "cell_type": "code",
   "execution_count": 6,
   "metadata": {},
   "outputs": [],
   "source": [
    "import tensorflow as tf\n",
    "from tensorflow.keras import datasets, layers, models\n",
    "import matplotlib.pyplot as plt"
   ]
  },
  {
   "cell_type": "code",
   "execution_count": 7,
   "metadata": {},
   "outputs": [
    {
     "name": "stdout",
     "output_type": "stream",
     "text": [
      "Model: \"sequential\"\n",
      "_________________________________________________________________\n",
      " Layer (type)                Output Shape              Param #   \n",
      "=================================================================\n",
      " conv2d (Conv2D)             (None, 126, 194, 32)      320       \n",
      "                                                                 \n",
      " max_pooling2d (MaxPooling2D  (None, 63, 97, 32)       0         \n",
      " )                                                               \n",
      "                                                                 \n",
      " conv2d_1 (Conv2D)           (None, 61, 95, 64)        18496     \n",
      "                                                                 \n",
      " max_pooling2d_1 (MaxPooling  (None, 30, 47, 64)       0         \n",
      " 2D)                                                             \n",
      "                                                                 \n",
      " conv2d_2 (Conv2D)           (None, 28, 45, 64)        36928     \n",
      "                                                                 \n",
      " flatten (Flatten)           (None, 80640)             0         \n",
      "                                                                 \n",
      " dense (Dense)               (None, 64)                5161024   \n",
      "                                                                 \n",
      " dense_1 (Dense)             (None, 1)                 65        \n",
      "                                                                 \n",
      "=================================================================\n",
      "Total params: 5,216,833\n",
      "Trainable params: 5,216,833\n",
      "Non-trainable params: 0\n",
      "_________________________________________________________________\n"
     ]
    },
    {
     "name": "stderr",
     "output_type": "stream",
     "text": [
      "2022-04-22 09:11:55.442503: I tensorflow/stream_executor/cuda/cuda_gpu_executor.cc:936] successful NUMA node read from SysFS had negative value (-1), but there must be at least one NUMA node, so returning NUMA node zero\n",
      "2022-04-22 09:11:55.447261: W tensorflow/stream_executor/platform/default/dso_loader.cc:64] Could not load dynamic library 'libcudnn.so.8'; dlerror: libcudnn.so.8: cannot open shared object file: No such file or directory\n",
      "2022-04-22 09:11:55.447275: W tensorflow/core/common_runtime/gpu/gpu_device.cc:1850] Cannot dlopen some GPU libraries. Please make sure the missing libraries mentioned above are installed properly if you would like to use GPU. Follow the guide at https://www.tensorflow.org/install/gpu for how to download and setup the required libraries for your platform.\n",
      "Skipping registering GPU devices...\n",
      "2022-04-22 09:11:55.447696: I tensorflow/core/platform/cpu_feature_guard.cc:151] This TensorFlow binary is optimized with oneAPI Deep Neural Network Library (oneDNN) to use the following CPU instructions in performance-critical operations:  AVX2 AVX512F FMA\n",
      "To enable them in other operations, rebuild TensorFlow with the appropriate compiler flags.\n"
     ]
    }
   ],
   "source": [
    "model = models.Sequential()\n",
    "model.add(layers.Conv2D(32, (3, 3), activation='relu', input_shape=(128, 196, 1)))\n",
    "model.add(layers.MaxPooling2D((2, 2)))\n",
    "model.add(layers.Conv2D(64, (3, 3), activation='relu'))\n",
    "model.add(layers.MaxPooling2D((2, 2)))\n",
    "model.add(layers.Conv2D(64, (3, 3), activation='relu'))\n",
    "\n",
    "\n",
    "model.add(layers.Flatten())\n",
    "model.add(layers.Dense(64, activation='relu'))\n",
    "model.add(layers.Dense(1))\n",
    "\n",
    "model.summary()"
   ]
  },
  {
   "cell_type": "code",
   "execution_count": 8,
   "metadata": {},
   "outputs": [],
   "source": [
    "from tensorflow.keras.optimizers import RMSprop"
   ]
  },
  {
   "cell_type": "code",
   "execution_count": 9,
   "metadata": {},
   "outputs": [
    {
     "name": "stdout",
     "output_type": "stream",
     "text": [
      "Epoch 1/10\n",
      "1/1 [==============================] - 1s 684ms/step - loss: 3.3963 - accuracy: 0.6400 - val_loss: 7.7125 - val_accuracy: 0.5000\n",
      "Epoch 2/10\n",
      "1/1 [==============================] - 0s 232ms/step - loss: 8.6380 - accuracy: 0.4400 - val_loss: 7.7125 - val_accuracy: 0.5000\n",
      "Epoch 3/10\n",
      "1/1 [==============================] - 0s 230ms/step - loss: 8.6380 - accuracy: 0.4400 - val_loss: 7.7125 - val_accuracy: 0.5000\n",
      "Epoch 4/10\n",
      "1/1 [==============================] - 0s 230ms/step - loss: 8.6380 - accuracy: 0.4400 - val_loss: 7.7125 - val_accuracy: 0.5000\n",
      "Epoch 5/10\n",
      "1/1 [==============================] - 0s 231ms/step - loss: 8.6380 - accuracy: 0.4400 - val_loss: 7.7125 - val_accuracy: 0.5000\n",
      "Epoch 6/10\n",
      "1/1 [==============================] - 0s 230ms/step - loss: 8.6380 - accuracy: 0.4400 - val_loss: 7.7125 - val_accuracy: 0.5000\n",
      "Epoch 7/10\n",
      "1/1 [==============================] - 0s 226ms/step - loss: 8.6380 - accuracy: 0.4400 - val_loss: 7.7125 - val_accuracy: 0.5000\n",
      "Epoch 8/10\n",
      "1/1 [==============================] - 0s 246ms/step - loss: 8.6380 - accuracy: 0.4400 - val_loss: 7.7125 - val_accuracy: 0.5000\n",
      "Epoch 9/10\n",
      "1/1 [==============================] - 0s 246ms/step - loss: 8.6380 - accuracy: 0.4400 - val_loss: 7.7125 - val_accuracy: 0.5000\n",
      "Epoch 10/10\n",
      "1/1 [==============================] - 0s 235ms/step - loss: 8.6380 - accuracy: 0.4400 - val_loss: 7.7125 - val_accuracy: 0.5000\n"
     ]
    }
   ],
   "source": [
    "model.compile(loss='binary_crossentropy',\n",
    "              optimizer=RMSprop(learning_rate=0.001),\n",
    "              metrics='accuracy')\n",
    "\n",
    "history = model.fit(X_train, y_train, epochs=10,\n",
    "                    validation_data=(X_val, y_val))"
   ]
  },
  {
   "cell_type": "code",
   "execution_count": 10,
   "metadata": {},
   "outputs": [
    {
     "name": "stdout",
     "output_type": "stream",
     "text": [
      "1/1 - 0s - loss: 8.8143 - accuracy: 0.4286 - 22ms/epoch - 22ms/step\n"
     ]
    },
    {
     "data": {
      "image/png": "[encoded data removed]",
      "text/plain": [
       "<Figure size 432x288 with 1 Axes>"
      ]
     },
     "metadata": {
      "needs_background": "light"
     },
     "output_type": "display_data"
    }
   ],
   "source": [
    "import matplotlib.pyplot as plt\n",
    "\n",
    "plt.plot(history.history['accuracy'], label='accuracy')\n",
    "plt.plot(history.history['val_accuracy'], label = 'val_accuracy')\n",
    "plt.xlabel('Epoch')\n",
    "plt.ylabel('Accuracy')\n",
    "plt.ylim([0.5, 1])\n",
    "plt.legend(loc='lower right')\n",
    "\n",
    "test_loss, test_acc = model.evaluate(X_test,  y_test, verbose=2)"
   ]
  }
 ],
 "metadata": {
  "interpreter": {
   "hash": "73cdb8068fb29a4d992b50a8130c5699128e49a23c234139f6f5107947219a38"
  },
  "kernelspec": {
   "display_name": "Python 3.8.10 64-bit (windows store)",
   "language": "python",
   "name": "python3"
  },
  "language_info": {
   "codemirror_mode": {
    "name": "ipython",
    "version": 3
   },
   "file_extension": ".py",
   "mimetype": "text/x-python",
   "name": "python",
   "nbconvert_exporter": "python",
   "pygments_lexer": "ipython3",
   "version": "3.9.7"
  },
  "orig_nbformat": 4
 },
 "nbformat": 4,
 "nbformat_minor": 2
}
