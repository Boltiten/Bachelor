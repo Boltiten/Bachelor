{
 "cells": [
  {
   "cell_type": "code",
   "execution_count": 17,
   "metadata": {},
   "outputs": [],
   "source": [
    "import numpy as np\n",
    "import tensorflow as tf\n",
    "from tensorflow.keras import datasets, layers, models\n",
    "from tensorflow.keras.optimizers import RMSprop\n",
    "from sklearn.model_selection import train_test_split\n",
    "import matplotlib.pyplot as plt"
   ]
  },
  {
   "cell_type": "code",
   "execution_count": 18,
   "metadata": {},
   "outputs": [],
   "source": [
    "training_x_segments = np.load('norwegian_train_x.npy')\n",
    "training_y_segments = np.load('norwegian_train_y.npy')\n",
    "testing_x_segments = np.load('norwegian_test_x.npy')\n",
    "testing_y_segments = np.load('norwegian_test_y.npy')"
   ]
  },
  {
   "cell_type": "code",
   "execution_count": 19,
   "metadata": {},
   "outputs": [
    {
     "name": "stdout",
     "output_type": "stream",
     "text": [
      "(120280, 128, 10, 1)\n",
      "(120280,)\n",
      "(27249, 128, 10, 1)\n"
     ]
    }
   ],
   "source": [
    "X_train, y_train = np.array(training_x_segments), np.array(training_y_segments)\n",
    "\n",
    "\n",
    "X_test, y_test = np.array(testing_x_segments), np.array(testing_y_segments)\n",
    "    \n",
    "X_train = X_train.reshape(X_train.shape[0], X_train.shape[1], X_train.shape[2],1)\n",
    "#X_val = X_val.reshape(X_val.shape[0], X_val.shape[1], X_val.shape[2],1)\n",
    "X_test = X_test.reshape(X_test.shape[0], X_test.shape[1], X_test.shape[2],1)\n",
    "print(X_train.shape)\n",
    "print(y_train.shape)\n",
    "print(X_test.shape)"
   ]
  },
  {
   "cell_type": "code",
   "execution_count": 20,
   "metadata": {},
   "outputs": [
    {
     "name": "stdout",
     "output_type": "stream",
     "text": [
      "Model: \"sequential_2\"\n",
      "_________________________________________________________________\n",
      " Layer (type)                Output Shape              Param #   \n",
      "=================================================================\n",
      " conv2d_2 (Conv2D)           (None, 126, 8, 32)        320       \n",
      "                                                                 \n",
      " max_pooling2d_2 (MaxPooling  (None, 63, 4, 32)        0         \n",
      " 2D)                                                             \n",
      "                                                                 \n",
      " flatten_2 (Flatten)         (None, 8064)              0         \n",
      "                                                                 \n",
      " dense_4 (Dense)             (None, 64)                516160    \n",
      "                                                                 \n",
      " dense_5 (Dense)             (None, 1)                 65        \n",
      "                                                                 \n",
      "=================================================================\n",
      "Total params: 516,545\n",
      "Trainable params: 516,545\n",
      "Non-trainable params: 0\n",
      "_________________________________________________________________\n"
     ]
    }
   ],
   "source": [
    "model = models.Sequential()\n",
    "model.add(layers.Conv2D(32, (3, 3), activation='relu', input_shape=(128, 10, 1)))\n",
    "model.add(layers.Conv2D(64, (3, 3), activation='relu'))\n",
    "#model.add(layers.Conv2D(64, (3, 3), activation='relu'))\n",
    "model.add(layers.MaxPooling2D((2, 2)))\n",
    "\n",
    "\n",
    "model.add(layers.Flatten())\n",
    "model.add(layers.Dense(64, activation='relu'))\n",
    "model.add(layers.Dense(1))\n",
    "\n",
    "model.summary()"
   ]
  },
  {
   "cell_type": "code",
   "execution_count": 21,
   "metadata": {},
   "outputs": [
    {
     "name": "stdout",
     "output_type": "stream",
     "text": [
      "Epoch 1/50\n",
      "3759/3759 [==============================] - 28s 7ms/step - loss: 2.9711 - accuracy: 0.7129\n",
      "Epoch 2/50\n",
      "3759/3759 [==============================] - 29s 8ms/step - loss: 1.5042 - accuracy: 0.8268\n",
      "Epoch 3/50\n",
      "3759/3759 [==============================] - 29s 8ms/step - loss: 1.1104 - accuracy: 0.8656\n",
      "Epoch 4/50\n",
      "3759/3759 [==============================] - 29s 8ms/step - loss: 0.9440 - accuracy: 0.8870\n",
      "Epoch 5/50\n",
      "3759/3759 [==============================] - 29s 8ms/step - loss: 0.8722 - accuracy: 0.8960\n",
      "Epoch 6/50\n",
      "3759/3759 [==============================] - 29s 8ms/step - loss: 0.8359 - accuracy: 0.9027\n",
      "Epoch 7/50\n",
      "3759/3759 [==============================] - 29s 8ms/step - loss: 0.8090 - accuracy: 0.9082\n",
      "Epoch 8/50\n",
      "3759/3759 [==============================] - 29s 8ms/step - loss: 0.7862 - accuracy: 0.9126\n",
      "Epoch 9/50\n",
      "3759/3759 [==============================] - 28s 8ms/step - loss: 0.7736 - accuracy: 0.9141\n",
      "Epoch 10/50\n",
      "3759/3759 [==============================] - 28s 8ms/step - loss: 0.7852 - accuracy: 0.9148\n",
      "Epoch 11/50\n",
      "3759/3759 [==============================] - 28s 7ms/step - loss: 0.7700 - accuracy: 0.9172\n",
      "Epoch 12/50\n",
      "3759/3759 [==============================] - 29s 8ms/step - loss: 0.7659 - accuracy: 0.9192\n",
      "Epoch 13/50\n",
      "3759/3759 [==============================] - 28s 7ms/step - loss: 0.7448 - accuracy: 0.9211\n",
      "Epoch 14/50\n",
      "3759/3759 [==============================] - 28s 7ms/step - loss: 0.7511 - accuracy: 0.9213\n",
      "Epoch 15/50\n",
      "3759/3759 [==============================] - 28s 7ms/step - loss: 0.7255 - accuracy: 0.9248\n",
      "Epoch 16/50\n",
      "3759/3759 [==============================] - 28s 7ms/step - loss: 0.7219 - accuracy: 0.9254\n",
      "Epoch 17/50\n",
      "3759/3759 [==============================] - 28s 7ms/step - loss: 0.7218 - accuracy: 0.9257\n",
      "Epoch 18/50\n",
      "3759/3759 [==============================] - 28s 7ms/step - loss: 0.7201 - accuracy: 0.9264\n",
      "Epoch 19/50\n",
      "3759/3759 [==============================] - 28s 8ms/step - loss: 0.7144 - accuracy: 0.9276\n",
      "Epoch 20/50\n",
      "3759/3759 [==============================] - 28s 7ms/step - loss: 0.7209 - accuracy: 0.9268\n",
      "Epoch 21/50\n",
      "3759/3759 [==============================] - 28s 7ms/step - loss: 0.7243 - accuracy: 0.9273\n",
      "Epoch 22/50\n",
      "3759/3759 [==============================] - 28s 8ms/step - loss: 0.7159 - accuracy: 0.9285\n",
      "Epoch 23/50\n",
      "3759/3759 [==============================] - 28s 8ms/step - loss: 0.7174 - accuracy: 0.9290\n",
      "Epoch 24/50\n",
      "3759/3759 [==============================] - 28s 8ms/step - loss: 0.7192 - accuracy: 0.9294\n",
      "Epoch 25/50\n",
      "3759/3759 [==============================] - 29s 8ms/step - loss: 0.7170 - accuracy: 0.9300\n",
      "Epoch 26/50\n",
      "3759/3759 [==============================] - 28s 7ms/step - loss: 0.7170 - accuracy: 0.9304\n",
      "Epoch 27/50\n",
      "3759/3759 [==============================] - 28s 7ms/step - loss: 0.7127 - accuracy: 0.9314\n",
      "Epoch 28/50\n",
      "3759/3759 [==============================] - 28s 7ms/step - loss: 0.7081 - accuracy: 0.9318\n",
      "Epoch 29/50\n",
      "3759/3759 [==============================] - 28s 7ms/step - loss: 0.7031 - accuracy: 0.9332\n",
      "Epoch 30/50\n",
      "3759/3759 [==============================] - 29s 8ms/step - loss: 0.7006 - accuracy: 0.9333\n",
      "Epoch 31/50\n",
      "3759/3759 [==============================] - 28s 8ms/step - loss: 0.6983 - accuracy: 0.9340\n",
      "Epoch 32/50\n",
      "3759/3759 [==============================] - 29s 8ms/step - loss: 0.7033 - accuracy: 0.9336\n",
      "Epoch 33/50\n",
      "3759/3759 [==============================] - 29s 8ms/step - loss: 0.7033 - accuracy: 0.9343\n",
      "Epoch 34/50\n",
      "3759/3759 [==============================] - 29s 8ms/step - loss: 0.7084 - accuracy: 0.9342\n",
      "Epoch 35/50\n",
      "3759/3759 [==============================] - 28s 8ms/step - loss: 0.7053 - accuracy: 0.9343\n",
      "Epoch 36/50\n",
      "3759/3759 [==============================] - 28s 8ms/step - loss: 0.7028 - accuracy: 0.9349\n",
      "Epoch 37/50\n",
      "3759/3759 [==============================] - 28s 8ms/step - loss: 0.7056 - accuracy: 0.9353\n",
      "Epoch 38/50\n",
      "3759/3759 [==============================] - 29s 8ms/step - loss: 0.7062 - accuracy: 0.9352\n",
      "Epoch 39/50\n",
      "3759/3759 [==============================] - 29s 8ms/step - loss: 0.7088 - accuracy: 0.9358\n",
      "Epoch 40/50\n",
      "3759/3759 [==============================] - 29s 8ms/step - loss: 0.7144 - accuracy: 0.9352\n",
      "Epoch 41/50\n",
      "3759/3759 [==============================] - 29s 8ms/step - loss: 0.7051 - accuracy: 0.9361\n",
      "Epoch 42/50\n",
      "3759/3759 [==============================] - 29s 8ms/step - loss: 0.7200 - accuracy: 0.9352\n",
      "Epoch 43/50\n",
      "3759/3759 [==============================] - 29s 8ms/step - loss: 0.7155 - accuracy: 0.9356\n",
      "Epoch 44/50\n",
      "3759/3759 [==============================] - 29s 8ms/step - loss: 0.7186 - accuracy: 0.9361\n",
      "Epoch 45/50\n",
      "3759/3759 [==============================] - 29s 8ms/step - loss: 0.7198 - accuracy: 0.9360\n",
      "Epoch 46/50\n",
      "3759/3759 [==============================] - 29s 8ms/step - loss: 0.7154 - accuracy: 0.9366\n",
      "Epoch 47/50\n",
      "3759/3759 [==============================] - 29s 8ms/step - loss: 0.7101 - accuracy: 0.9371\n",
      "Epoch 48/50\n",
      "3759/3759 [==============================] - 29s 8ms/step - loss: 0.7146 - accuracy: 0.9369\n",
      "Epoch 49/50\n",
      "3759/3759 [==============================] - 29s 8ms/step - loss: 0.7127 - accuracy: 0.9369\n",
      "Epoch 50/50\n",
      "3759/3759 [==============================] - 29s 8ms/step - loss: 0.7125 - accuracy: 0.9372\n"
     ]
    }
   ],
   "source": [
    "model.compile(loss='binary_crossentropy',\n",
    "              optimizer=RMSprop(learning_rate=0.0001),\n",
    "              metrics='accuracy')\n",
    "              \n",
    "history = model.fit(X_train, y_train, epochs=50)"
   ]
  },
  {
   "cell_type": "code",
   "execution_count": 22,
   "metadata": {},
   "outputs": [
    {
     "name": "stdout",
     "output_type": "stream",
     "text": [
      "852/852 - 2s - loss: 3.9563 - accuracy: 0.7022 - 2s/epoch - 2ms/step\n"
     ]
    }
   ],
   "source": [
    "test_loss, test_acc = model.evaluate(X_test,  y_test, verbose=2)"
   ]
  },
  {
   "cell_type": "code",
   "execution_count": 23,
   "metadata": {},
   "outputs": [
    {
     "data": {
      "text/plain": [
       "<matplotlib.legend.Legend at 0x1b30e6e7850>"
      ]
     },
     "execution_count": 23,
     "metadata": {},
     "output_type": "execute_result"
    },
    {
     "data": {
      "image/png": "[encoded data removed]",
      "text/plain": [
       "<Figure size 432x288 with 1 Axes>"
      ]
     },
     "metadata": {
      "needs_background": "light"
     },
     "output_type": "display_data"
    }
   ],
   "source": [
    "plt.plot(history.history['accuracy'], label='accuracy')\n",
    "plt.xlabel('Epoch')\n",
    "plt.ylabel('Accuracy')\n",
    "plt.ylim([0.3, 1])\n",
    "plt.legend(loc='lower right')"
   ]
  }
 ],
 "metadata": {
  "interpreter": {
   "hash": "899c2c9b5cf32e89833687d2dede70ceb2732e27bdbe22d786bb717de54df1aa"
  },
  "kernelspec": {
   "display_name": "Python 3.10.4 64-bit (windows store)",
   "language": "python",
   "name": "python3"
  },
  "language_info": {
   "codemirror_mode": {
    "name": "ipython",
    "version": 3
   },
   "file_extension": ".py",
   "mimetype": "text/x-python",
   "name": "python",
   "nbconvert_exporter": "python",
   "pygments_lexer": "ipython3",
   "version": "3.10.4"
  },
  "orig_nbformat": 4
 },
 "nbformat": 4,
 "nbformat_minor": 2
}
