{
 "cells": [
  {
   "cell_type": "code",
   "execution_count": 159,
   "metadata": {},
   "outputs": [],
   "source": [
    "from IPython.display import Audio\n",
    "import librosa\n",
    "import os"
   ]
  },
  {
   "cell_type": "code",
   "execution_count": 160,
   "metadata": {},
   "outputs": [],
   "source": [
    "def cut_song(song):\n",
    "    start = 0\n",
    "    end = len(song)\n",
    "    song_pieces = []\n",
    "    while start + 2000 < end:\n",
    "        song_pieces.append(song[start:start+2000])\n",
    "        start += 2000\n",
    "    return song_pieces\n",
    "\n",
    "def prepare_song(song_path):\n",
    "    list_matrices = []\n",
    "    y,sr = librosa.load(song_path,sr=22050)\n",
    "    song_pieces = cut_song(y)\n",
    "    for song_piece in song_pieces:\n",
    "        melspec = librosa.feature.melspectrogram(song_piece)\n",
    "        list_matrices.append(melspec)\n",
    "    return list_matrices"
   ]
  },
  {
   "cell_type": "code",
   "execution_count": 161,
   "metadata": {},
   "outputs": [
    {
     "name": "stdout",
     "output_type": "stream",
     "text": [
      "Finished: looperman-l-2345833-0276065-evan-beatz-country.wav\n",
      "Finished: looperman-l-4018687-0281843-country-roads.wav\n",
      "Finished: looperman-l-4984670-0289625-guitar-from-sad-country.wav\n",
      "Finished: looperman-l-3588536-0290696-country-guitar-sample-x-outside-x.wav\n",
      "Finished: looperman-l-3588536-0292541-country-guitar-sample-x-she-knows-x.wav\n",
      "Finished: looperman-l-4498998-0290963-uplifting-pop-rock-guitar-riff.wav\n",
      "Finished: looperman-l-4413470-0291047-metacem.wav\n",
      "Finished: looperman-l-1700729-0291898-young-mgk-x-jxdn-live-guitars-by-tahtx.wav\n",
      "Finished: looperman-l-1700729-0291899-mirror-mgk-x-jxdn-guitars-by-tahto.wav\n",
      "Finished: looperman-l-3588536-0292149-alt-rock-guitar-sample-x-dead-rose-x.wav\n",
      "Finished: looperman-l-3836200-0292174-pop-punk-type-guitar-mellow.wav\n",
      "Finished: looperman-l-3836200-0292438-j-rock-type-guitar-far-away.wav\n"
     ]
    }
   ],
   "source": [
    "import warnings\n",
    "warnings.simplefilter('ignore')\n",
    "\n",
    "all_tracks = []\n",
    "genre = []\n",
    "directory = 'D:/Podcasts/country'\n",
    "\n",
    "for song_name in os.listdir(directory):\n",
    "    song_pieces = prepare_song(directory + '/' + song_name)\n",
    "    all_tracks += song_pieces\n",
    "    genre += ([1]*len(song_pieces))\n",
    "    print(f\"Finished: {song_name}\")\n",
    "\n",
    "directory = 'D:/Podcasts/rock'\n",
    "for song_name in os.listdir(directory):\n",
    "    song_pieces = prepare_song(directory + '/' + song_name)\n",
    "    all_tracks += song_pieces\n",
    "    genre += ([0]*len(song_pieces))\n",
    "    print(f\"Finished: {song_name}\")"
   ]
  },
  {
   "cell_type": "code",
   "execution_count": 162,
   "metadata": {},
   "outputs": [],
   "source": [
    "import numpy as np\n",
    "from sklearn.model_selection import train_test_split"
   ]
  },
  {
   "cell_type": "code",
   "execution_count": 163,
   "metadata": {},
   "outputs": [
    {
     "name": "stdout",
     "output_type": "stream",
     "text": [
      "(1314, 128, 4)\n",
      "(324, 128, 4)\n",
      "(324, 128, 4)\n",
      "(1314, 128, 4, 1)\n"
     ]
    }
   ],
   "source": [
    "X_train, X_test, y_train, y_test = train_test_split(np.array(all_tracks),\n",
    "                                                    np.array(genre),\n",
    "                                                    test_size=0.33,\n",
    "                                                    random_state=42)\n",
    "\n",
    "\n",
    "X_val, X_test, y_val, y_test = train_test_split(X_test,\n",
    "                                                y_test, \n",
    "                                                test_size=0.5,\n",
    "                                                random_state=42)\n",
    "print(X_train.shape)\n",
    "print(X_val.shape)\n",
    "print(X_test.shape)\n",
    "X_train = X_train.reshape(X_train.shape[0], X_train.shape[1], X_train.shape[2],1)\n",
    "X_val = X_val.reshape(X_val.shape[0], X_val.shape[1], X_val.shape[2],1)\n",
    "X_test = X_test.reshape(X_test.shape[0], X_test.shape[1], X_test.shape[2],1)\n",
    "print(X_train.shape)\n"
   ]
  },
  {
   "cell_type": "code",
   "execution_count": 164,
   "metadata": {},
   "outputs": [],
   "source": [
    "import tensorflow as tf\n",
    "from tensorflow.keras import datasets, layers, models\n",
    "import matplotlib.pyplot as plt"
   ]
  },
  {
   "cell_type": "code",
   "execution_count": 165,
   "metadata": {},
   "outputs": [
    {
     "name": "stdout",
     "output_type": "stream",
     "text": [
      "Model: \"sequential_26\"\n",
      "_________________________________________________________________\n",
      " Layer (type)                Output Shape              Param #   \n",
      "=================================================================\n",
      " conv2d_31 (Conv2D)          (None, 126, 2, 32)        320       \n",
      "                                                                 \n",
      " max_pooling2d_23 (MaxPoolin  (None, 63, 1, 32)        0         \n",
      " g2D)                                                            \n",
      "                                                                 \n",
      " flatten_17 (Flatten)        (None, 2016)              0         \n",
      "                                                                 \n",
      " dense_34 (Dense)            (None, 64)                129088    \n",
      "                                                                 \n",
      " dense_35 (Dense)            (None, 1)                 65        \n",
      "                                                                 \n",
      "=================================================================\n",
      "Total params: 129,473\n",
      "Trainable params: 129,473\n",
      "Non-trainable params: 0\n",
      "_________________________________________________________________\n"
     ]
    }
   ],
   "source": [
    "model = models.Sequential()\n",
    "model.add(layers.Conv2D(32, (3, 3), activation='relu', input_shape=(128, 4, 1)))\n",
    "model.add(layers.MaxPooling2D((2, 2)))\n",
    "#model.add(layers.Conv2D(64, (2, 2), activation='relu'))\n",
    "#model.add(layers.MaxPooling2D((2, 2)))\n",
    "#model.add(layers.Conv2D(64, (3, 3), activation='relu'))\n",
    "\n",
    "\n",
    "model.add(layers.Flatten())\n",
    "model.add(layers.Dense(64, activation='relu'))\n",
    "model.add(layers.Dense(1))\n",
    "\n",
    "model.summary()"
   ]
  },
  {
   "cell_type": "code",
   "execution_count": 166,
   "metadata": {},
   "outputs": [],
   "source": [
    "from tensorflow.keras.optimizers import RMSprop"
   ]
  },
  {
   "cell_type": "code",
   "execution_count": 167,
   "metadata": {},
   "outputs": [
    {
     "name": "stdout",
     "output_type": "stream",
     "text": [
      "Epoch 1/100\n",
      "42/42 [==============================] - 1s 5ms/step - loss: 5.6576 - accuracy: 0.6065 - val_loss: 3.3858 - val_accuracy: 0.7407\n",
      "Epoch 2/100\n",
      "42/42 [==============================] - 0s 3ms/step - loss: 2.8084 - accuracy: 0.7907 - val_loss: 1.6941 - val_accuracy: 0.8704\n",
      "Epoch 3/100\n",
      "42/42 [==============================] - 0s 4ms/step - loss: 2.0123 - accuracy: 0.8440 - val_loss: 1.8376 - val_accuracy: 0.8611\n",
      "Epoch 4/100\n",
      "42/42 [==============================] - 0s 3ms/step - loss: 1.4440 - accuracy: 0.8881 - val_loss: 1.2159 - val_accuracy: 0.9074\n",
      "Epoch 5/100\n",
      "42/42 [==============================] - 0s 3ms/step - loss: 1.1375 - accuracy: 0.9072 - val_loss: 1.2144 - val_accuracy: 0.9043\n",
      "Epoch 6/100\n",
      "42/42 [==============================] - 0s 3ms/step - loss: 1.2893 - accuracy: 0.8988 - val_loss: 1.5471 - val_accuracy: 0.8827\n",
      "Epoch 7/100\n",
      "42/42 [==============================] - 0s 3ms/step - loss: 1.1566 - accuracy: 0.9079 - val_loss: 1.6374 - val_accuracy: 0.8765\n",
      "Epoch 8/100\n",
      "42/42 [==============================] - 0s 3ms/step - loss: 0.9985 - accuracy: 0.9193 - val_loss: 1.1422 - val_accuracy: 0.9167\n",
      "Epoch 9/100\n",
      "42/42 [==============================] - 0s 3ms/step - loss: 1.3314 - accuracy: 0.8957 - val_loss: 1.9998 - val_accuracy: 0.8488\n",
      "Epoch 10/100\n",
      "42/42 [==============================] - 0s 3ms/step - loss: 0.9193 - accuracy: 0.9292 - val_loss: 1.5247 - val_accuracy: 0.8920\n",
      "Epoch 11/100\n",
      "42/42 [==============================] - 0s 3ms/step - loss: 0.9724 - accuracy: 0.9247 - val_loss: 1.2877 - val_accuracy: 0.9105\n",
      "Epoch 12/100\n",
      "42/42 [==============================] - 0s 3ms/step - loss: 1.2714 - accuracy: 0.9072 - val_loss: 1.0047 - val_accuracy: 0.9259\n",
      "Epoch 13/100\n",
      "42/42 [==============================] - 0s 3ms/step - loss: 0.9313 - accuracy: 0.9285 - val_loss: 1.1623 - val_accuracy: 0.9198\n",
      "Epoch 14/100\n",
      "42/42 [==============================] - 0s 3ms/step - loss: 0.8964 - accuracy: 0.9323 - val_loss: 1.1724 - val_accuracy: 0.9167\n",
      "Epoch 15/100\n",
      "42/42 [==============================] - 0s 3ms/step - loss: 0.9250 - accuracy: 0.9315 - val_loss: 1.1721 - val_accuracy: 0.9136\n",
      "Epoch 16/100\n",
      "42/42 [==============================] - 0s 3ms/step - loss: 0.7576 - accuracy: 0.9452 - val_loss: 0.9320 - val_accuracy: 0.9321\n",
      "Epoch 17/100\n",
      "42/42 [==============================] - 0s 3ms/step - loss: 1.0386 - accuracy: 0.9269 - val_loss: 1.9318 - val_accuracy: 0.8611\n",
      "Epoch 18/100\n",
      "42/42 [==============================] - 0s 3ms/step - loss: 0.8273 - accuracy: 0.9429 - val_loss: 1.2499 - val_accuracy: 0.9136\n",
      "Epoch 19/100\n",
      "42/42 [==============================] - 0s 3ms/step - loss: 0.9741 - accuracy: 0.9323 - val_loss: 1.3310 - val_accuracy: 0.9043\n",
      "Epoch 20/100\n",
      "42/42 [==============================] - 0s 3ms/step - loss: 1.0110 - accuracy: 0.9330 - val_loss: 1.0065 - val_accuracy: 0.9321\n",
      "Epoch 21/100\n",
      "42/42 [==============================] - 0s 3ms/step - loss: 1.0994 - accuracy: 0.9216 - val_loss: 1.1483 - val_accuracy: 0.9198\n",
      "Epoch 22/100\n",
      "42/42 [==============================] - 0s 3ms/step - loss: 1.0905 - accuracy: 0.9262 - val_loss: 1.4332 - val_accuracy: 0.9043\n",
      "Epoch 23/100\n",
      "42/42 [==============================] - 0s 3ms/step - loss: 0.7754 - accuracy: 0.9475 - val_loss: 1.0459 - val_accuracy: 0.9321\n",
      "Epoch 24/100\n",
      "42/42 [==============================] - 0s 3ms/step - loss: 0.7155 - accuracy: 0.9521 - val_loss: 1.0949 - val_accuracy: 0.9290\n",
      "Epoch 25/100\n",
      "42/42 [==============================] - 0s 3ms/step - loss: 0.9254 - accuracy: 0.9384 - val_loss: 1.3358 - val_accuracy: 0.9074\n",
      "Epoch 26/100\n",
      "42/42 [==============================] - 0s 3ms/step - loss: 0.8112 - accuracy: 0.9452 - val_loss: 1.1115 - val_accuracy: 0.9198\n",
      "Epoch 27/100\n",
      "42/42 [==============================] - 0s 3ms/step - loss: 1.0382 - accuracy: 0.9292 - val_loss: 1.0994 - val_accuracy: 0.9259\n",
      "Epoch 28/100\n",
      "42/42 [==============================] - 0s 3ms/step - loss: 0.7992 - accuracy: 0.9452 - val_loss: 1.1399 - val_accuracy: 0.9228\n",
      "Epoch 29/100\n",
      "42/42 [==============================] - 0s 3ms/step - loss: 0.9474 - accuracy: 0.9368 - val_loss: 1.3748 - val_accuracy: 0.9105\n",
      "Epoch 30/100\n",
      "42/42 [==============================] - 0s 3ms/step - loss: 0.9932 - accuracy: 0.9346 - val_loss: 1.1393 - val_accuracy: 0.9259\n",
      "Epoch 31/100\n",
      "42/42 [==============================] - 0s 3ms/step - loss: 0.8358 - accuracy: 0.9422 - val_loss: 1.5355 - val_accuracy: 0.8951\n",
      "Epoch 32/100\n",
      "42/42 [==============================] - 0s 3ms/step - loss: 0.8598 - accuracy: 0.9406 - val_loss: 0.8610 - val_accuracy: 0.9414\n",
      "Epoch 33/100\n",
      "42/42 [==============================] - 0s 3ms/step - loss: 0.6559 - accuracy: 0.9566 - val_loss: 1.1944 - val_accuracy: 0.9198\n",
      "Epoch 34/100\n",
      "42/42 [==============================] - 0s 3ms/step - loss: 0.6497 - accuracy: 0.9559 - val_loss: 1.0404 - val_accuracy: 0.9321\n",
      "Epoch 35/100\n",
      "42/42 [==============================] - 0s 3ms/step - loss: 0.8524 - accuracy: 0.9406 - val_loss: 1.1472 - val_accuracy: 0.9228\n",
      "Epoch 36/100\n",
      "42/42 [==============================] - 0s 3ms/step - loss: 0.7353 - accuracy: 0.9482 - val_loss: 2.2930 - val_accuracy: 0.8457\n",
      "Epoch 37/100\n",
      "42/42 [==============================] - 0s 3ms/step - loss: 0.9028 - accuracy: 0.9368 - val_loss: 0.8153 - val_accuracy: 0.9444\n",
      "Epoch 38/100\n",
      "42/42 [==============================] - 0s 3ms/step - loss: 0.5740 - accuracy: 0.9612 - val_loss: 0.9554 - val_accuracy: 0.9352\n",
      "Epoch 39/100\n",
      "42/42 [==============================] - 0s 3ms/step - loss: 0.7387 - accuracy: 0.9505 - val_loss: 0.9984 - val_accuracy: 0.9321\n",
      "Epoch 40/100\n",
      "42/42 [==============================] - 0s 3ms/step - loss: 0.8101 - accuracy: 0.9452 - val_loss: 1.1910 - val_accuracy: 0.9198\n",
      "Epoch 41/100\n",
      "42/42 [==============================] - 0s 3ms/step - loss: 0.8798 - accuracy: 0.9399 - val_loss: 1.0050 - val_accuracy: 0.9321\n",
      "Epoch 42/100\n",
      "42/42 [==============================] - 0s 3ms/step - loss: 0.8121 - accuracy: 0.9452 - val_loss: 0.8602 - val_accuracy: 0.9414\n",
      "Epoch 43/100\n",
      "42/42 [==============================] - 0s 3ms/step - loss: 0.5943 - accuracy: 0.9589 - val_loss: 1.1012 - val_accuracy: 0.9228\n",
      "Epoch 44/100\n",
      "42/42 [==============================] - 0s 3ms/step - loss: 0.5373 - accuracy: 0.9650 - val_loss: 1.0940 - val_accuracy: 0.9259\n",
      "Epoch 45/100\n",
      "42/42 [==============================] - 0s 3ms/step - loss: 0.6323 - accuracy: 0.9574 - val_loss: 1.0071 - val_accuracy: 0.9259\n",
      "Epoch 46/100\n",
      "42/42 [==============================] - 0s 3ms/step - loss: 0.6245 - accuracy: 0.9559 - val_loss: 1.1981 - val_accuracy: 0.9167\n",
      "Epoch 47/100\n",
      "42/42 [==============================] - 0s 3ms/step - loss: 0.7038 - accuracy: 0.9528 - val_loss: 1.2430 - val_accuracy: 0.9136\n",
      "Epoch 48/100\n",
      "42/42 [==============================] - 0s 3ms/step - loss: 0.7578 - accuracy: 0.9460 - val_loss: 2.0744 - val_accuracy: 0.8519\n",
      "Epoch 49/100\n",
      "42/42 [==============================] - 0s 3ms/step - loss: 0.9874 - accuracy: 0.9353 - val_loss: 1.1100 - val_accuracy: 0.9228\n",
      "Epoch 50/100\n",
      "42/42 [==============================] - 0s 4ms/step - loss: 0.6773 - accuracy: 0.9551 - val_loss: 1.0972 - val_accuracy: 0.9259\n",
      "Epoch 51/100\n",
      "42/42 [==============================] - 0s 3ms/step - loss: 0.6206 - accuracy: 0.9589 - val_loss: 0.9006 - val_accuracy: 0.9414\n",
      "Epoch 52/100\n",
      "42/42 [==============================] - 0s 3ms/step - loss: 0.6438 - accuracy: 0.9574 - val_loss: 1.0711 - val_accuracy: 0.9167\n",
      "Epoch 53/100\n",
      "42/42 [==============================] - 0s 3ms/step - loss: 0.9045 - accuracy: 0.9384 - val_loss: 1.6255 - val_accuracy: 0.8920\n",
      "Epoch 54/100\n",
      "42/42 [==============================] - 0s 3ms/step - loss: 0.6367 - accuracy: 0.9559 - val_loss: 0.9205 - val_accuracy: 0.9352\n",
      "Epoch 55/100\n",
      "42/42 [==============================] - 0s 4ms/step - loss: 0.5650 - accuracy: 0.9612 - val_loss: 0.9609 - val_accuracy: 0.9290\n",
      "Epoch 56/100\n",
      "42/42 [==============================] - 0s 3ms/step - loss: 0.5165 - accuracy: 0.9642 - val_loss: 0.9073 - val_accuracy: 0.9383\n",
      "Epoch 57/100\n",
      "42/42 [==============================] - 0s 3ms/step - loss: 0.6464 - accuracy: 0.9559 - val_loss: 0.9088 - val_accuracy: 0.9383\n",
      "Epoch 58/100\n",
      "42/42 [==============================] - 0s 3ms/step - loss: 0.5188 - accuracy: 0.9642 - val_loss: 1.0583 - val_accuracy: 0.9228\n",
      "Epoch 59/100\n",
      "42/42 [==============================] - 0s 4ms/step - loss: 0.4560 - accuracy: 0.9703 - val_loss: 0.8605 - val_accuracy: 0.9414\n",
      "Epoch 60/100\n",
      "42/42 [==============================] - 0s 3ms/step - loss: 0.4438 - accuracy: 0.9711 - val_loss: 0.8605 - val_accuracy: 0.9414\n",
      "Epoch 61/100\n",
      "42/42 [==============================] - 0s 3ms/step - loss: 0.4438 - accuracy: 0.9711 - val_loss: 0.8605 - val_accuracy: 0.9414\n",
      "Epoch 62/100\n",
      "42/42 [==============================] - 0s 3ms/step - loss: 0.4438 - accuracy: 0.9711 - val_loss: 0.8605 - val_accuracy: 0.9414\n",
      "Epoch 63/100\n",
      "42/42 [==============================] - 0s 3ms/step - loss: 0.4438 - accuracy: 0.9711 - val_loss: 0.8605 - val_accuracy: 0.9414\n",
      "Epoch 64/100\n",
      "42/42 [==============================] - 0s 3ms/step - loss: 0.4438 - accuracy: 0.9711 - val_loss: 0.8605 - val_accuracy: 0.9414\n",
      "Epoch 65/100\n",
      "42/42 [==============================] - 0s 3ms/step - loss: 0.4438 - accuracy: 0.9711 - val_loss: 0.8605 - val_accuracy: 0.9414\n",
      "Epoch 66/100\n",
      "42/42 [==============================] - 0s 3ms/step - loss: 0.4438 - accuracy: 0.9711 - val_loss: 0.8605 - val_accuracy: 0.9414\n",
      "Epoch 67/100\n",
      "42/42 [==============================] - 0s 3ms/step - loss: 0.4438 - accuracy: 0.9711 - val_loss: 0.8605 - val_accuracy: 0.9414\n",
      "Epoch 68/100\n",
      "42/42 [==============================] - 0s 3ms/step - loss: 0.4438 - accuracy: 0.9711 - val_loss: 0.8605 - val_accuracy: 0.9414\n",
      "Epoch 69/100\n",
      "42/42 [==============================] - 0s 3ms/step - loss: 0.4438 - accuracy: 0.9711 - val_loss: 0.8605 - val_accuracy: 0.9414\n",
      "Epoch 70/100\n",
      "42/42 [==============================] - 0s 3ms/step - loss: 0.4438 - accuracy: 0.9711 - val_loss: 0.8605 - val_accuracy: 0.9414\n",
      "Epoch 71/100\n",
      "42/42 [==============================] - 0s 3ms/step - loss: 0.4438 - accuracy: 0.9711 - val_loss: 0.8605 - val_accuracy: 0.9414\n",
      "Epoch 72/100\n",
      "42/42 [==============================] - 0s 3ms/step - loss: 0.4438 - accuracy: 0.9711 - val_loss: 0.8605 - val_accuracy: 0.9414\n",
      "Epoch 73/100\n",
      "42/42 [==============================] - 0s 3ms/step - loss: 0.4438 - accuracy: 0.9711 - val_loss: 0.8605 - val_accuracy: 0.9414\n",
      "Epoch 74/100\n",
      "42/42 [==============================] - 0s 3ms/step - loss: 0.4438 - accuracy: 0.9711 - val_loss: 0.8605 - val_accuracy: 0.9414\n",
      "Epoch 75/100\n",
      "42/42 [==============================] - 0s 3ms/step - loss: 0.4438 - accuracy: 0.9711 - val_loss: 0.8605 - val_accuracy: 0.9414\n",
      "Epoch 76/100\n",
      "42/42 [==============================] - 0s 3ms/step - loss: 0.4438 - accuracy: 0.9711 - val_loss: 0.8605 - val_accuracy: 0.9414\n",
      "Epoch 77/100\n",
      "42/42 [==============================] - 0s 3ms/step - loss: 0.4438 - accuracy: 0.9711 - val_loss: 0.8605 - val_accuracy: 0.9414\n",
      "Epoch 78/100\n",
      "42/42 [==============================] - 0s 3ms/step - loss: 0.4438 - accuracy: 0.9711 - val_loss: 0.8605 - val_accuracy: 0.9414\n",
      "Epoch 79/100\n",
      "42/42 [==============================] - 0s 3ms/step - loss: 0.4438 - accuracy: 0.9711 - val_loss: 0.8605 - val_accuracy: 0.9414\n",
      "Epoch 80/100\n",
      "42/42 [==============================] - 0s 3ms/step - loss: 0.4438 - accuracy: 0.9711 - val_loss: 0.8605 - val_accuracy: 0.9414\n",
      "Epoch 81/100\n",
      "42/42 [==============================] - 0s 3ms/step - loss: 0.4438 - accuracy: 0.9711 - val_loss: 0.8605 - val_accuracy: 0.9414\n",
      "Epoch 82/100\n",
      "42/42 [==============================] - 0s 3ms/step - loss: 0.4438 - accuracy: 0.9711 - val_loss: 0.8605 - val_accuracy: 0.9414\n",
      "Epoch 83/100\n",
      "42/42 [==============================] - 0s 3ms/step - loss: 0.4438 - accuracy: 0.9711 - val_loss: 0.8605 - val_accuracy: 0.9414\n",
      "Epoch 84/100\n",
      "42/42 [==============================] - 0s 3ms/step - loss: 0.4438 - accuracy: 0.9711 - val_loss: 0.8605 - val_accuracy: 0.9414\n",
      "Epoch 85/100\n",
      "42/42 [==============================] - 0s 3ms/step - loss: 0.4438 - accuracy: 0.9711 - val_loss: 0.8605 - val_accuracy: 0.9414\n",
      "Epoch 86/100\n",
      "42/42 [==============================] - 0s 3ms/step - loss: 0.4438 - accuracy: 0.9711 - val_loss: 0.8605 - val_accuracy: 0.9414\n",
      "Epoch 87/100\n",
      "42/42 [==============================] - 0s 3ms/step - loss: 0.4438 - accuracy: 0.9711 - val_loss: 0.8605 - val_accuracy: 0.9414\n",
      "Epoch 88/100\n",
      "42/42 [==============================] - 0s 3ms/step - loss: 0.4438 - accuracy: 0.9711 - val_loss: 0.8605 - val_accuracy: 0.9414\n",
      "Epoch 89/100\n",
      "42/42 [==============================] - 0s 3ms/step - loss: 0.4438 - accuracy: 0.9711 - val_loss: 0.8605 - val_accuracy: 0.9414\n",
      "Epoch 90/100\n",
      "42/42 [==============================] - 0s 3ms/step - loss: 0.4438 - accuracy: 0.9711 - val_loss: 0.8605 - val_accuracy: 0.9414\n",
      "Epoch 91/100\n",
      "42/42 [==============================] - 0s 3ms/step - loss: 0.4438 - accuracy: 0.9711 - val_loss: 0.8605 - val_accuracy: 0.9414\n",
      "Epoch 92/100\n",
      "42/42 [==============================] - 0s 3ms/step - loss: 0.4438 - accuracy: 0.9711 - val_loss: 0.8605 - val_accuracy: 0.9414\n",
      "Epoch 93/100\n",
      "42/42 [==============================] - 0s 3ms/step - loss: 0.4438 - accuracy: 0.9711 - val_loss: 0.8605 - val_accuracy: 0.9414\n",
      "Epoch 94/100\n",
      "42/42 [==============================] - 0s 3ms/step - loss: 0.4438 - accuracy: 0.9711 - val_loss: 0.8605 - val_accuracy: 0.9414\n",
      "Epoch 95/100\n",
      "42/42 [==============================] - 0s 3ms/step - loss: 0.4438 - accuracy: 0.9711 - val_loss: 0.8605 - val_accuracy: 0.9414\n",
      "Epoch 96/100\n",
      "42/42 [==============================] - 0s 3ms/step - loss: 0.4438 - accuracy: 0.9711 - val_loss: 0.8605 - val_accuracy: 0.9414\n",
      "Epoch 97/100\n",
      "42/42 [==============================] - 0s 3ms/step - loss: 0.4438 - accuracy: 0.9711 - val_loss: 0.8605 - val_accuracy: 0.9414\n",
      "Epoch 98/100\n",
      "42/42 [==============================] - 0s 3ms/step - loss: 0.4438 - accuracy: 0.9711 - val_loss: 0.8605 - val_accuracy: 0.9414\n",
      "Epoch 99/100\n",
      "42/42 [==============================] - 0s 3ms/step - loss: 0.4438 - accuracy: 0.9711 - val_loss: 0.8605 - val_accuracy: 0.9414\n",
      "Epoch 100/100\n",
      "42/42 [==============================] - 0s 3ms/step - loss: 0.4438 - accuracy: 0.9711 - val_loss: 0.8605 - val_accuracy: 0.9414\n"
     ]
    }
   ],
   "source": [
    "model.compile(loss='binary_crossentropy',\n",
    "              optimizer=RMSprop(learning_rate=0.001),\n",
    "              metrics='accuracy')\n",
    "\n",
    "history = model.fit(X_train, y_train, epochs=100,\n",
    "                    validation_data=(X_val, y_val))"
   ]
  },
  {
   "cell_type": "code",
   "execution_count": 168,
   "metadata": {},
   "outputs": [
    {
     "name": "stdout",
     "output_type": "stream",
     "text": [
      "11/11 - 0s - loss: 0.6661 - accuracy: 0.9537 - 23ms/epoch - 2ms/step\n"
     ]
    },
    {
     "data": {
      "image/png": "[encoded data removed]",
      "text/plain": [
       "<Figure size 432x288 with 1 Axes>"
      ]
     },
     "metadata": {
      "needs_background": "light"
     },
     "output_type": "display_data"
    }
   ],
   "source": [
    "import matplotlib.pyplot as plt\n",
    "\n",
    "plt.plot(history.history['accuracy'], label='accuracy')\n",
    "plt.plot(history.history['val_accuracy'], label = 'val_accuracy')\n",
    "plt.xlabel('Epoch')\n",
    "plt.ylabel('Accuracy')\n",
    "plt.ylim([0.3, 1])\n",
    "plt.legend(loc='lower right')\n",
    "\n",
    "test_loss, test_acc = model.evaluate(X_test,  y_test, verbose=2)"
   ]
  },
  {
   "cell_type": "code",
   "execution_count": 169,
   "metadata": {},
   "outputs": [
    {
     "name": "stdout",
     "output_type": "stream",
     "text": [
      "pred shape (10, 1)\n"
     ]
    }
   ],
   "source": [
    "predictions = model.predict(X_test[:10])\n",
    "print(\"pred shape\", predictions.shape)"
   ]
  },
  {
   "cell_type": "code",
   "execution_count": 170,
   "metadata": {},
   "outputs": [
    {
     "name": "stdout",
     "output_type": "stream",
     "text": [
      "[0 0 0 0 0 0 0 0 0 0]\n"
     ]
    }
   ],
   "source": [
    "predgenre = np.argmax(predictions,axis=1)\n",
    "print(predgenre)\n",
    "#print(genre)"
   ]
  }
 ],
 "metadata": {
  "interpreter": {
   "hash": "73cdb8068fb29a4d992b50a8130c5699128e49a23c234139f6f5107947219a38"
  },
  "kernelspec": {
   "display_name": "Python 3.8.10 64-bit (windows store)",
   "language": "python",
   "name": "python3"
  },
  "language_info": {
   "codemirror_mode": {
    "name": "ipython",
    "version": 3
   },
   "file_extension": ".py",
   "mimetype": "text/x-python",
   "name": "python",
   "nbconvert_exporter": "python",
   "pygments_lexer": "ipython3",
   "version": "3.10.4"
  },
  "orig_nbformat": 4
 },
 "nbformat": 4,
 "nbformat_minor": 2
}
