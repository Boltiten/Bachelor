{
 "cells": [
  {
   "cell_type": "code",
   "execution_count": 1,
   "metadata": {},
   "outputs": [],
   "source": [
    "import numpy as np\n",
    "from sklearn.model_selection import train_test_split\n",
    "import tensorflow as tf\n",
    "from tensorflow.keras import datasets, layers, models\n",
    "import matplotlib.pyplot as plt\n",
    "from tensorflow.keras.optimizers import RMSprop"
   ]
  },
  {
   "cell_type": "code",
   "execution_count": 2,
   "metadata": {},
   "outputs": [
    {
     "name": "stdout",
     "output_type": "stream",
     "text": [
      "(6486, 128, 20)\n",
      "(1597, 128, 20)\n",
      "(1598, 128, 20)\n",
      "(6486, 128, 20, 1)\n"
     ]
    }
   ],
   "source": [
    "podcasts_segments = np.load('podcast_segmented.npy')\n",
    "ads_segments = np.load('adBinary_segmented.npy')\n",
    "\n",
    "X_train, X_test, y_train, y_test = train_test_split(np.array(podcasts_segments),\n",
    "                                                    np.array(ads_segments),\n",
    "                                                    test_size=0.33,\n",
    "                                                    random_state=42)\n",
    "\n",
    "\n",
    "X_val, X_test, y_val, y_test = train_test_split(X_test,\n",
    "                                                y_test, \n",
    "                                                test_size=0.5,\n",
    "                                                random_state=42)\n",
    "print(X_train.shape)\n",
    "print(X_val.shape)\n",
    "print(X_test.shape)\n",
    "X_train = X_train.reshape(X_train.shape[0], X_train.shape[1], X_train.shape[2],1)\n",
    "X_val = X_val.reshape(X_val.shape[0], X_val.shape[1], X_val.shape[2],1)\n",
    "X_test = X_test.reshape(X_test.shape[0], X_test.shape[1], X_test.shape[2],1)\n",
    "print(X_train.shape)"
   ]
  },
  {
   "cell_type": "code",
   "execution_count": 3,
   "metadata": {},
   "outputs": [
    {
     "name": "stdout",
     "output_type": "stream",
     "text": [
      "Model: \"sequential\"\n",
      "_________________________________________________________________\n",
      " Layer (type)                Output Shape              Param #   \n",
      "=================================================================\n",
      " conv2d (Conv2D)             (None, 126, 18, 32)       320       \n",
      "                                                                 \n",
      " max_pooling2d (MaxPooling2D  (None, 63, 9, 32)        0         \n",
      " )                                                               \n",
      "                                                                 \n",
      " flatten (Flatten)           (None, 18144)             0         \n",
      "                                                                 \n",
      " dense (Dense)               (None, 64)                1161280   \n",
      "                                                                 \n",
      " dense_1 (Dense)             (None, 1)                 65        \n",
      "                                                                 \n",
      "=================================================================\n",
      "Total params: 1,161,665\n",
      "Trainable params: 1,161,665\n",
      "Non-trainable params: 0\n",
      "_________________________________________________________________\n"
     ]
    }
   ],
   "source": [
    "model = models.Sequential()\n",
    "model.add(layers.Conv2D(32, (3, 3), activation='relu', input_shape=(128, 20, 1)))\n",
    "model.add(layers.MaxPooling2D((2, 2)))\n",
    "#model.add(layers.Conv2D(64, (2, 2), activation='relu'))\n",
    "#model.add(layers.MaxPooling2D((2, 2)))\n",
    "#model.add(layers.Conv2D(64, (3, 3), activation='relu'))\n",
    "\n",
    "\n",
    "model.add(layers.Flatten())\n",
    "model.add(layers.Dense(64, activation='relu'))\n",
    "model.add(layers.Dense(1))\n",
    "\n",
    "model.summary()"
   ]
  },
  {
   "cell_type": "code",
   "execution_count": 4,
   "metadata": {},
   "outputs": [
    {
     "name": "stdout",
     "output_type": "stream",
     "text": [
      "Epoch 1/10\n",
      "203/203 [==============================] - 5s 21ms/step - loss: 2.4931 - accuracy: 0.8377 - val_loss: 2.7624 - val_accuracy: 0.8209\n",
      "Epoch 2/10\n",
      "203/203 [==============================] - 4s 18ms/step - loss: 2.4566 - accuracy: 0.8407 - val_loss: 2.7624 - val_accuracy: 0.8209\n",
      "Epoch 3/10\n",
      "203/203 [==============================] - 4s 18ms/step - loss: 2.4566 - accuracy: 0.8407 - val_loss: 2.7624 - val_accuracy: 0.8209\n",
      "Epoch 4/10\n",
      "203/203 [==============================] - 4s 19ms/step - loss: 2.4566 - accuracy: 0.8407 - val_loss: 2.7624 - val_accuracy: 0.8209\n",
      "Epoch 5/10\n",
      "203/203 [==============================] - 4s 18ms/step - loss: 2.4566 - accuracy: 0.8407 - val_loss: 2.7624 - val_accuracy: 0.8209\n",
      "Epoch 6/10\n",
      "203/203 [==============================] - 4s 18ms/step - loss: 2.4566 - accuracy: 0.8407 - val_loss: 2.7624 - val_accuracy: 0.8209\n",
      "Epoch 7/10\n",
      "203/203 [==============================] - 4s 17ms/step - loss: 2.4566 - accuracy: 0.8407 - val_loss: 2.7624 - val_accuracy: 0.8209\n",
      "Epoch 8/10\n",
      "203/203 [==============================] - 4s 17ms/step - loss: 2.4566 - accuracy: 0.8407 - val_loss: 2.7624 - val_accuracy: 0.8209\n",
      "Epoch 9/10\n",
      "203/203 [==============================] - 4s 18ms/step - loss: 2.4566 - accuracy: 0.8407 - val_loss: 2.7624 - val_accuracy: 0.8209\n",
      "Epoch 10/10\n",
      "203/203 [==============================] - 4s 19ms/step - loss: 2.4566 - accuracy: 0.8407 - val_loss: 2.7624 - val_accuracy: 0.8209\n"
     ]
    }
   ],
   "source": [
    "model.compile(loss='binary_crossentropy',\n",
    "              optimizer=RMSprop(learning_rate=0.001),\n",
    "              metrics='accuracy')\n",
    "\n",
    "history = model.fit(X_train, y_train, epochs=10,\n",
    "                    validation_data=(X_val, y_val))"
   ]
  },
  {
   "cell_type": "code",
   "execution_count": 5,
   "metadata": {},
   "outputs": [
    {
     "name": "stdout",
     "output_type": "stream",
     "text": [
      "50/50 - 0s - loss: 2.5676 - accuracy: 0.8335 - 245ms/epoch - 5ms/step\n"
     ]
    },
    {
     "data": {
      "image/png": "[encoded data removed]",
      "text/plain": [
       "<Figure size 432x288 with 1 Axes>"
      ]
     },
     "metadata": {
      "needs_background": "light"
     },
     "output_type": "display_data"
    }
   ],
   "source": [
    "plt.plot(history.history['accuracy'], label='accuracy')\n",
    "plt.plot(history.history['val_accuracy'], label = 'val_accuracy')\n",
    "plt.xlabel('Epoch')\n",
    "plt.ylabel('Accuracy')\n",
    "plt.ylim([0.3, 1])\n",
    "plt.legend(loc='lower right')\n",
    "\n",
    "test_loss, test_acc = model.evaluate(X_test,  y_test, verbose=2)"
   ]
  }
 ],
 "metadata": {
  "interpreter": {
   "hash": "73cdb8068fb29a4d992b50a8130c5699128e49a23c234139f6f5107947219a38"
  },
  "kernelspec": {
   "display_name": "Python 3.8.10 64-bit (windows store)",
   "language": "python",
   "name": "python3"
  },
  "language_info": {
   "codemirror_mode": {
    "name": "ipython",
    "version": 3
   },
   "file_extension": ".py",
   "mimetype": "text/x-python",
   "name": "python",
   "nbconvert_exporter": "python",
   "pygments_lexer": "ipython3",
   "version": "3.10.4"
  },
  "orig_nbformat": 4
 },
 "nbformat": 4,
 "nbformat_minor": 2
}
