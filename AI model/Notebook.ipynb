{
 "cells": [
  {
   "cell_type": "code",
   "execution_count": 111,
   "metadata": {},
   "outputs": [],
   "source": [
    "from IPython.display import Audio\n",
    "import librosa\n",
    "import os"
   ]
  },
  {
   "cell_type": "code",
   "execution_count": 112,
   "metadata": {},
   "outputs": [],
   "source": [
    "def cut_song(song):\n",
    "    start = 0\n",
    "    end = len(song)\n",
    "    song_pieces = []\n",
    "    while start + 2000 < end:\n",
    "        song_pieces.append(song[start:start+2000])\n",
    "        start += 2000\n",
    "    return song_pieces\n",
    "\n",
    "def prepare_song(song_path):\n",
    "    list_matrices = []\n",
    "    y,sr = librosa.load(song_path,sr=22050)\n",
    "    song_pieces = cut_song(y)\n",
    "    for song_piece in song_pieces:\n",
    "        melspec = librosa.feature.melspectrogram(song_piece)\n",
    "        list_matrices.append(melspec)\n",
    "    return list_matrices"
   ]
  },
  {
   "cell_type": "code",
   "execution_count": 113,
   "metadata": {},
   "outputs": [
    {
     "name": "stdout",
     "output_type": "stream",
     "text": [
      "Finished: looperman-l-2345833-0276065-evan-beatz-country.wav\n",
      "Finished: looperman-l-4018687-0281843-country-roads.wav\n",
      "Finished: looperman-l-4042820-0282624-dusted-country-guitar.wav\n",
      "Finished: looperman-l-3588536-0287562-country-guitar-sample-x-working-all-day-x.wav\n",
      "Finished: looperman-l-4984670-0289625-guitar-from-sad-country.wav\n",
      "Finished: looperman-l-3588536-0290696-country-guitar-sample-x-outside-x.wav\n",
      "Finished: looperman-l-3588536-0292541-country-guitar-sample-x-she-knows-x.wav\n",
      "Finished: looperman-l-4498998-0290963-uplifting-pop-rock-guitar-riff.wav\n",
      "Finished: looperman-l-4413470-0291047-metacem.wav\n",
      "Finished: looperman-l-1700729-0291898-young-mgk-x-jxdn-live-guitars-by-tahtx.wav\n",
      "Finished: looperman-l-1700729-0291899-mirror-mgk-x-jxdn-guitars-by-tahto.wav\n",
      "Finished: looperman-l-3588536-0292149-alt-rock-guitar-sample-x-dead-rose-x.wav\n",
      "Finished: looperman-l-3836200-0292174-pop-punk-type-guitar-mellow.wav\n",
      "Finished: looperman-l-3836200-0292438-j-rock-type-guitar-far-away.wav\n"
     ]
    }
   ],
   "source": [
    "import warnings\n",
    "warnings.simplefilter('ignore')\n",
    "\n",
    "all_tracks = []\n",
    "genre = []\n",
    "directory = 'D:/Podcasts/country'\n",
    "\n",
    "for song_name in os.listdir(directory):\n",
    "    song_pieces = prepare_song(directory + '/' + song_name)\n",
    "    all_tracks += song_pieces\n",
    "    genre += ([1]*len(song_pieces))\n",
    "    print(f\"Finished: {song_name}\")\n",
    "\n",
    "directory = 'D:/Podcasts/rock'\n",
    "for song_name in os.listdir(directory):\n",
    "    song_pieces = prepare_song(directory + '/' + song_name)\n",
    "    all_tracks += song_pieces\n",
    "    genre += ([0]*len(song_pieces))\n",
    "    print(f\"Finished: {song_name}\")"
   ]
  },
  {
   "cell_type": "code",
   "execution_count": 114,
   "metadata": {},
   "outputs": [],
   "source": [
    "import numpy as np\n",
    "from sklearn.model_selection import train_test_split"
   ]
  },
  {
   "cell_type": "code",
   "execution_count": 115,
   "metadata": {},
   "outputs": [
    {
     "name": "stdout",
     "output_type": "stream",
     "text": [
      "(988, 128, 6)\n",
      "(244, 128, 6)\n",
      "(244, 128, 6)\n",
      "(988, 128, 6, 1)\n"
     ]
    }
   ],
   "source": [
    "X_train, X_test, y_train, y_test = train_test_split(np.array(all_tracks),\n",
    "                                                    np.array(genre),\n",
    "                                                    test_size=0.33,\n",
    "                                                    random_state=42)\n",
    "\n",
    "\n",
    "X_val, X_test, y_val, y_test = train_test_split(X_test,\n",
    "                                                y_test, \n",
    "                                                test_size=0.5,\n",
    "                                                random_state=42)\n",
    "print(X_train.shape)\n",
    "print(X_val.shape)\n",
    "print(X_test.shape)\n",
    "X_train = X_train.reshape(X_train.shape[0], X_train.shape[1], X_train.shape[2],1)\n",
    "X_val = X_val.reshape(X_val.shape[0], X_val.shape[1], X_val.shape[2],1)\n",
    "X_test = X_test.reshape(X_test.shape[0], X_test.shape[1], X_test.shape[2],1)\n",
    "print(X_train.shape)\n"
   ]
  },
  {
   "cell_type": "code",
   "execution_count": 116,
   "metadata": {},
   "outputs": [],
   "source": [
    "import tensorflow as tf\n",
    "from tensorflow.keras import datasets, layers, models\n",
    "import matplotlib.pyplot as plt"
   ]
  },
  {
   "cell_type": "code",
   "execution_count": 117,
   "metadata": {},
   "outputs": [
    {
     "name": "stdout",
     "output_type": "stream",
     "text": [
      "Model: \"sequential_22\"\n",
      "_________________________________________________________________\n",
      " Layer (type)                Output Shape              Param #   \n",
      "=================================================================\n",
      " conv2d_27 (Conv2D)          (None, 126, 4, 32)        320       \n",
      "                                                                 \n",
      " max_pooling2d_19 (MaxPoolin  (None, 63, 2, 32)        0         \n",
      " g2D)                                                            \n",
      "                                                                 \n",
      " flatten_13 (Flatten)        (None, 4032)              0         \n",
      "                                                                 \n",
      " dense_26 (Dense)            (None, 64)                258112    \n",
      "                                                                 \n",
      " dense_27 (Dense)            (None, 1)                 65        \n",
      "                                                                 \n",
      "=================================================================\n",
      "Total params: 258,497\n",
      "Trainable params: 258,497\n",
      "Non-trainable params: 0\n",
      "_________________________________________________________________\n"
     ]
    }
   ],
   "source": [
    "model = models.Sequential()\n",
    "model.add(layers.Conv2D(32, (3, 3), activation='relu', input_shape=(128, 4, 1)))\n",
    "model.add(layers.MaxPooling2D((2, 2)))\n",
    "#model.add(layers.Conv2D(64, (2, 2), activation='relu'))\n",
    "#model.add(layers.MaxPooling2D((2, 2)))\n",
    "#model.add(layers.Conv2D(64, (3, 3), activation='relu'))\n",
    "\n",
    "\n",
    "model.add(layers.Flatten())\n",
    "model.add(layers.Dense(64, activation='relu'))\n",
    "model.add(layers.Dense(1))\n",
    "\n",
    "model.summary()"
   ]
  },
  {
   "cell_type": "code",
   "execution_count": 118,
   "metadata": {},
   "outputs": [],
   "source": [
    "from tensorflow.keras.optimizers import RMSprop"
   ]
  },
  {
   "cell_type": "code",
   "execution_count": 119,
   "metadata": {},
   "outputs": [
    {
     "name": "stdout",
     "output_type": "stream",
     "text": [
      "Epoch 1/100\n",
      "31/31 [==============================] - 1s 8ms/step - loss: 8.4365 - accuracy: 0.4504 - val_loss: 8.3446 - val_accuracy: 0.4590\n",
      "Epoch 2/100\n",
      "31/31 [==============================] - 0s 5ms/step - loss: 8.4619 - accuracy: 0.4514 - val_loss: 8.3446 - val_accuracy: 0.4590\n",
      "Epoch 3/100\n",
      "31/31 [==============================] - 0s 6ms/step - loss: 8.4619 - accuracy: 0.4514 - val_loss: 8.3446 - val_accuracy: 0.4590\n",
      "Epoch 4/100\n",
      "31/31 [==============================] - 0s 6ms/step - loss: 8.4619 - accuracy: 0.4514 - val_loss: 8.3446 - val_accuracy: 0.4590\n",
      "Epoch 5/100\n",
      "31/31 [==============================] - 0s 6ms/step - loss: 8.4619 - accuracy: 0.4514 - val_loss: 8.3446 - val_accuracy: 0.4590\n",
      "Epoch 6/100\n",
      "31/31 [==============================] - 0s 6ms/step - loss: 8.4619 - accuracy: 0.4514 - val_loss: 8.3446 - val_accuracy: 0.4590\n",
      "Epoch 7/100\n",
      "31/31 [==============================] - 0s 5ms/step - loss: 8.4619 - accuracy: 0.4514 - val_loss: 8.3446 - val_accuracy: 0.4590\n",
      "Epoch 8/100\n",
      "31/31 [==============================] - 0s 5ms/step - loss: 8.4619 - accuracy: 0.4514 - val_loss: 8.3446 - val_accuracy: 0.4590\n",
      "Epoch 9/100\n",
      "31/31 [==============================] - 0s 6ms/step - loss: 8.4619 - accuracy: 0.4514 - val_loss: 8.3446 - val_accuracy: 0.4590\n",
      "Epoch 10/100\n",
      "31/31 [==============================] - 0s 5ms/step - loss: 8.4619 - accuracy: 0.4514 - val_loss: 8.3446 - val_accuracy: 0.4590\n",
      "Epoch 11/100\n",
      "31/31 [==============================] - 0s 6ms/step - loss: 8.4619 - accuracy: 0.4514 - val_loss: 8.3446 - val_accuracy: 0.4590\n",
      "Epoch 12/100\n",
      "31/31 [==============================] - 0s 6ms/step - loss: 8.4619 - accuracy: 0.4514 - val_loss: 8.3446 - val_accuracy: 0.4590\n",
      "Epoch 13/100\n",
      "31/31 [==============================] - 0s 5ms/step - loss: 8.4619 - accuracy: 0.4514 - val_loss: 8.3446 - val_accuracy: 0.4590\n",
      "Epoch 14/100\n",
      "31/31 [==============================] - 0s 6ms/step - loss: 8.4619 - accuracy: 0.4514 - val_loss: 8.3446 - val_accuracy: 0.4590\n",
      "Epoch 15/100\n",
      "31/31 [==============================] - 0s 6ms/step - loss: 8.4619 - accuracy: 0.4514 - val_loss: 8.3446 - val_accuracy: 0.4590\n",
      "Epoch 16/100\n",
      "31/31 [==============================] - 0s 6ms/step - loss: 8.4619 - accuracy: 0.4514 - val_loss: 8.3446 - val_accuracy: 0.4590\n",
      "Epoch 17/100\n",
      "31/31 [==============================] - 0s 5ms/step - loss: 8.4619 - accuracy: 0.4514 - val_loss: 8.3446 - val_accuracy: 0.4590\n",
      "Epoch 18/100\n",
      "31/31 [==============================] - 0s 6ms/step - loss: 8.4619 - accuracy: 0.4514 - val_loss: 8.3446 - val_accuracy: 0.4590\n",
      "Epoch 19/100\n",
      "31/31 [==============================] - 0s 5ms/step - loss: 8.4619 - accuracy: 0.4514 - val_loss: 8.3446 - val_accuracy: 0.4590\n",
      "Epoch 20/100\n",
      "31/31 [==============================] - 0s 6ms/step - loss: 8.4619 - accuracy: 0.4514 - val_loss: 8.3446 - val_accuracy: 0.4590\n",
      "Epoch 21/100\n",
      "31/31 [==============================] - 0s 5ms/step - loss: 8.4619 - accuracy: 0.4514 - val_loss: 8.3446 - val_accuracy: 0.4590\n",
      "Epoch 22/100\n",
      "31/31 [==============================] - 0s 5ms/step - loss: 8.4619 - accuracy: 0.4514 - val_loss: 8.3446 - val_accuracy: 0.4590\n",
      "Epoch 23/100\n",
      "31/31 [==============================] - 0s 5ms/step - loss: 8.4619 - accuracy: 0.4514 - val_loss: 8.3446 - val_accuracy: 0.4590\n",
      "Epoch 24/100\n",
      "31/31 [==============================] - 0s 6ms/step - loss: 8.4619 - accuracy: 0.4514 - val_loss: 8.3446 - val_accuracy: 0.4590\n",
      "Epoch 25/100\n",
      "31/31 [==============================] - 0s 5ms/step - loss: 8.4619 - accuracy: 0.4514 - val_loss: 8.3446 - val_accuracy: 0.4590\n",
      "Epoch 26/100\n",
      "31/31 [==============================] - 0s 5ms/step - loss: 8.4619 - accuracy: 0.4514 - val_loss: 8.3446 - val_accuracy: 0.4590\n",
      "Epoch 27/100\n",
      "31/31 [==============================] - 0s 5ms/step - loss: 8.4619 - accuracy: 0.4514 - val_loss: 8.3446 - val_accuracy: 0.4590\n",
      "Epoch 28/100\n",
      "31/31 [==============================] - 0s 5ms/step - loss: 8.4619 - accuracy: 0.4514 - val_loss: 8.3446 - val_accuracy: 0.4590\n",
      "Epoch 29/100\n",
      "31/31 [==============================] - 0s 5ms/step - loss: 8.4619 - accuracy: 0.4514 - val_loss: 8.3446 - val_accuracy: 0.4590\n",
      "Epoch 30/100\n",
      "31/31 [==============================] - 0s 5ms/step - loss: 8.4619 - accuracy: 0.4514 - val_loss: 8.3446 - val_accuracy: 0.4590\n",
      "Epoch 31/100\n",
      "31/31 [==============================] - 0s 5ms/step - loss: 8.4619 - accuracy: 0.4514 - val_loss: 8.3446 - val_accuracy: 0.4590\n",
      "Epoch 32/100\n",
      "31/31 [==============================] - 0s 6ms/step - loss: 8.4619 - accuracy: 0.4514 - val_loss: 8.3446 - val_accuracy: 0.4590\n",
      "Epoch 33/100\n",
      "31/31 [==============================] - 0s 6ms/step - loss: 8.4619 - accuracy: 0.4514 - val_loss: 8.3446 - val_accuracy: 0.4590\n",
      "Epoch 34/100\n",
      "31/31 [==============================] - 0s 5ms/step - loss: 8.4619 - accuracy: 0.4514 - val_loss: 8.3446 - val_accuracy: 0.4590\n",
      "Epoch 35/100\n",
      "31/31 [==============================] - 0s 5ms/step - loss: 8.4619 - accuracy: 0.4514 - val_loss: 8.3446 - val_accuracy: 0.4590\n",
      "Epoch 36/100\n",
      "31/31 [==============================] - 0s 5ms/step - loss: 8.4619 - accuracy: 0.4514 - val_loss: 8.3446 - val_accuracy: 0.4590\n",
      "Epoch 37/100\n",
      "31/31 [==============================] - 0s 5ms/step - loss: 8.4619 - accuracy: 0.4514 - val_loss: 8.3446 - val_accuracy: 0.4590\n",
      "Epoch 38/100\n",
      "31/31 [==============================] - 0s 5ms/step - loss: 8.4619 - accuracy: 0.4514 - val_loss: 8.3446 - val_accuracy: 0.4590\n",
      "Epoch 39/100\n",
      "31/31 [==============================] - 0s 6ms/step - loss: 8.4619 - accuracy: 0.4514 - val_loss: 8.3446 - val_accuracy: 0.4590\n",
      "Epoch 40/100\n",
      "31/31 [==============================] - 0s 6ms/step - loss: 8.4619 - accuracy: 0.4514 - val_loss: 8.3446 - val_accuracy: 0.4590\n",
      "Epoch 41/100\n",
      "31/31 [==============================] - 0s 5ms/step - loss: 8.4619 - accuracy: 0.4514 - val_loss: 8.3446 - val_accuracy: 0.4590\n",
      "Epoch 42/100\n",
      "31/31 [==============================] - 0s 5ms/step - loss: 8.4619 - accuracy: 0.4514 - val_loss: 8.3446 - val_accuracy: 0.4590\n",
      "Epoch 43/100\n",
      "31/31 [==============================] - 0s 5ms/step - loss: 8.4619 - accuracy: 0.4514 - val_loss: 8.3446 - val_accuracy: 0.4590\n",
      "Epoch 44/100\n",
      "31/31 [==============================] - 0s 5ms/step - loss: 8.4619 - accuracy: 0.4514 - val_loss: 8.3446 - val_accuracy: 0.4590\n",
      "Epoch 45/100\n",
      "31/31 [==============================] - 0s 5ms/step - loss: 8.4619 - accuracy: 0.4514 - val_loss: 8.3446 - val_accuracy: 0.4590\n",
      "Epoch 46/100\n",
      "31/31 [==============================] - 0s 5ms/step - loss: 8.4619 - accuracy: 0.4514 - val_loss: 8.3446 - val_accuracy: 0.4590\n",
      "Epoch 47/100\n",
      "31/31 [==============================] - 0s 5ms/step - loss: 8.4619 - accuracy: 0.4514 - val_loss: 8.3446 - val_accuracy: 0.4590\n",
      "Epoch 48/100\n",
      "31/31 [==============================] - 0s 5ms/step - loss: 8.4619 - accuracy: 0.4514 - val_loss: 8.3446 - val_accuracy: 0.4590\n",
      "Epoch 49/100\n",
      "31/31 [==============================] - 0s 6ms/step - loss: 8.4619 - accuracy: 0.4514 - val_loss: 8.3446 - val_accuracy: 0.4590\n",
      "Epoch 50/100\n",
      "31/31 [==============================] - 0s 5ms/step - loss: 8.4619 - accuracy: 0.4514 - val_loss: 8.3446 - val_accuracy: 0.4590\n",
      "Epoch 51/100\n",
      "31/31 [==============================] - 0s 5ms/step - loss: 8.4619 - accuracy: 0.4514 - val_loss: 8.3446 - val_accuracy: 0.4590\n",
      "Epoch 52/100\n",
      "31/31 [==============================] - 0s 5ms/step - loss: 8.4619 - accuracy: 0.4514 - val_loss: 8.3446 - val_accuracy: 0.4590\n",
      "Epoch 53/100\n",
      "31/31 [==============================] - 0s 5ms/step - loss: 8.4619 - accuracy: 0.4514 - val_loss: 8.3446 - val_accuracy: 0.4590\n",
      "Epoch 54/100\n",
      "31/31 [==============================] - 0s 5ms/step - loss: 8.4619 - accuracy: 0.4514 - val_loss: 8.3446 - val_accuracy: 0.4590\n",
      "Epoch 55/100\n",
      "31/31 [==============================] - 0s 6ms/step - loss: 8.4619 - accuracy: 0.4514 - val_loss: 8.3446 - val_accuracy: 0.4590\n",
      "Epoch 56/100\n",
      "31/31 [==============================] - 0s 6ms/step - loss: 8.4619 - accuracy: 0.4514 - val_loss: 8.3446 - val_accuracy: 0.4590\n",
      "Epoch 57/100\n",
      "31/31 [==============================] - 0s 5ms/step - loss: 8.4619 - accuracy: 0.4514 - val_loss: 8.3446 - val_accuracy: 0.4590\n",
      "Epoch 58/100\n",
      "31/31 [==============================] - 0s 5ms/step - loss: 8.4619 - accuracy: 0.4514 - val_loss: 8.3446 - val_accuracy: 0.4590\n",
      "Epoch 59/100\n",
      "31/31 [==============================] - 0s 5ms/step - loss: 8.4619 - accuracy: 0.4514 - val_loss: 8.3446 - val_accuracy: 0.4590\n",
      "Epoch 60/100\n",
      "31/31 [==============================] - 0s 5ms/step - loss: 8.4619 - accuracy: 0.4514 - val_loss: 8.3446 - val_accuracy: 0.4590\n",
      "Epoch 61/100\n",
      "31/31 [==============================] - 0s 5ms/step - loss: 8.4619 - accuracy: 0.4514 - val_loss: 8.3446 - val_accuracy: 0.4590\n",
      "Epoch 62/100\n",
      "31/31 [==============================] - 0s 5ms/step - loss: 8.4619 - accuracy: 0.4514 - val_loss: 8.3446 - val_accuracy: 0.4590\n",
      "Epoch 63/100\n",
      "31/31 [==============================] - 0s 5ms/step - loss: 8.4619 - accuracy: 0.4514 - val_loss: 8.3446 - val_accuracy: 0.4590\n",
      "Epoch 64/100\n",
      "31/31 [==============================] - 0s 5ms/step - loss: 8.4619 - accuracy: 0.4514 - val_loss: 8.3446 - val_accuracy: 0.4590\n",
      "Epoch 65/100\n",
      "31/31 [==============================] - 0s 5ms/step - loss: 8.4619 - accuracy: 0.4514 - val_loss: 8.3446 - val_accuracy: 0.4590\n",
      "Epoch 66/100\n",
      "31/31 [==============================] - 0s 5ms/step - loss: 8.4619 - accuracy: 0.4514 - val_loss: 8.3446 - val_accuracy: 0.4590\n",
      "Epoch 67/100\n",
      "31/31 [==============================] - 0s 5ms/step - loss: 8.4619 - accuracy: 0.4514 - val_loss: 8.3446 - val_accuracy: 0.4590\n",
      "Epoch 68/100\n",
      "31/31 [==============================] - 0s 5ms/step - loss: 8.4619 - accuracy: 0.4514 - val_loss: 8.3446 - val_accuracy: 0.4590\n",
      "Epoch 69/100\n",
      "31/31 [==============================] - 0s 6ms/step - loss: 8.4619 - accuracy: 0.4514 - val_loss: 8.3446 - val_accuracy: 0.4590\n",
      "Epoch 70/100\n",
      "31/31 [==============================] - 0s 6ms/step - loss: 8.4619 - accuracy: 0.4514 - val_loss: 8.3446 - val_accuracy: 0.4590\n",
      "Epoch 71/100\n",
      "31/31 [==============================] - 0s 5ms/step - loss: 8.4619 - accuracy: 0.4514 - val_loss: 8.3446 - val_accuracy: 0.4590\n",
      "Epoch 72/100\n",
      "31/31 [==============================] - 0s 5ms/step - loss: 8.4619 - accuracy: 0.4514 - val_loss: 8.3446 - val_accuracy: 0.4590\n",
      "Epoch 73/100\n",
      "31/31 [==============================] - 0s 6ms/step - loss: 8.4619 - accuracy: 0.4514 - val_loss: 8.3446 - val_accuracy: 0.4590\n",
      "Epoch 74/100\n",
      "31/31 [==============================] - 0s 5ms/step - loss: 8.4619 - accuracy: 0.4514 - val_loss: 8.3446 - val_accuracy: 0.4590\n",
      "Epoch 75/100\n",
      "31/31 [==============================] - 0s 6ms/step - loss: 8.4619 - accuracy: 0.4514 - val_loss: 8.3446 - val_accuracy: 0.4590\n",
      "Epoch 76/100\n",
      "31/31 [==============================] - 0s 5ms/step - loss: 8.4619 - accuracy: 0.4514 - val_loss: 8.3446 - val_accuracy: 0.4590\n",
      "Epoch 77/100\n",
      "31/31 [==============================] - 0s 6ms/step - loss: 8.4619 - accuracy: 0.4514 - val_loss: 8.3446 - val_accuracy: 0.4590\n",
      "Epoch 78/100\n",
      "31/31 [==============================] - 0s 5ms/step - loss: 8.4619 - accuracy: 0.4514 - val_loss: 8.3446 - val_accuracy: 0.4590\n",
      "Epoch 79/100\n",
      "31/31 [==============================] - 0s 5ms/step - loss: 8.4619 - accuracy: 0.4514 - val_loss: 8.3446 - val_accuracy: 0.4590\n",
      "Epoch 80/100\n",
      "31/31 [==============================] - 0s 5ms/step - loss: 8.4619 - accuracy: 0.4514 - val_loss: 8.3446 - val_accuracy: 0.4590\n",
      "Epoch 81/100\n",
      "31/31 [==============================] - 0s 5ms/step - loss: 8.4619 - accuracy: 0.4514 - val_loss: 8.3446 - val_accuracy: 0.4590\n",
      "Epoch 82/100\n",
      "31/31 [==============================] - 0s 5ms/step - loss: 8.4619 - accuracy: 0.4514 - val_loss: 8.3446 - val_accuracy: 0.4590\n",
      "Epoch 83/100\n",
      "31/31 [==============================] - 0s 5ms/step - loss: 8.4619 - accuracy: 0.4514 - val_loss: 8.3446 - val_accuracy: 0.4590\n",
      "Epoch 84/100\n",
      "31/31 [==============================] - 0s 5ms/step - loss: 8.4619 - accuracy: 0.4514 - val_loss: 8.3446 - val_accuracy: 0.4590\n",
      "Epoch 85/100\n",
      "31/31 [==============================] - 0s 5ms/step - loss: 8.4619 - accuracy: 0.4514 - val_loss: 8.3446 - val_accuracy: 0.4590\n",
      "Epoch 86/100\n",
      "31/31 [==============================] - 0s 5ms/step - loss: 8.4619 - accuracy: 0.4514 - val_loss: 8.3446 - val_accuracy: 0.4590\n",
      "Epoch 87/100\n",
      "31/31 [==============================] - 0s 5ms/step - loss: 8.4619 - accuracy: 0.4514 - val_loss: 8.3446 - val_accuracy: 0.4590\n",
      "Epoch 88/100\n",
      "31/31 [==============================] - 0s 5ms/step - loss: 8.4619 - accuracy: 0.4514 - val_loss: 8.3446 - val_accuracy: 0.4590\n",
      "Epoch 89/100\n",
      "31/31 [==============================] - 0s 5ms/step - loss: 8.4619 - accuracy: 0.4514 - val_loss: 8.3446 - val_accuracy: 0.4590\n",
      "Epoch 90/100\n",
      "31/31 [==============================] - 0s 5ms/step - loss: 8.4619 - accuracy: 0.4514 - val_loss: 8.3446 - val_accuracy: 0.4590\n",
      "Epoch 91/100\n",
      "31/31 [==============================] - 0s 5ms/step - loss: 8.4619 - accuracy: 0.4514 - val_loss: 8.3446 - val_accuracy: 0.4590\n",
      "Epoch 92/100\n",
      "31/31 [==============================] - 0s 6ms/step - loss: 8.4619 - accuracy: 0.4514 - val_loss: 8.3446 - val_accuracy: 0.4590\n",
      "Epoch 93/100\n",
      "31/31 [==============================] - 0s 6ms/step - loss: 8.4619 - accuracy: 0.4514 - val_loss: 8.3446 - val_accuracy: 0.4590\n",
      "Epoch 94/100\n",
      "31/31 [==============================] - 0s 5ms/step - loss: 8.4619 - accuracy: 0.4514 - val_loss: 8.3446 - val_accuracy: 0.4590\n",
      "Epoch 95/100\n",
      "31/31 [==============================] - 0s 5ms/step - loss: 8.4619 - accuracy: 0.4514 - val_loss: 8.3446 - val_accuracy: 0.4590\n",
      "Epoch 96/100\n",
      "31/31 [==============================] - 0s 5ms/step - loss: 8.4619 - accuracy: 0.4514 - val_loss: 8.3446 - val_accuracy: 0.4590\n",
      "Epoch 97/100\n",
      "31/31 [==============================] - 0s 5ms/step - loss: 8.4619 - accuracy: 0.4514 - val_loss: 8.3446 - val_accuracy: 0.4590\n",
      "Epoch 98/100\n",
      "31/31 [==============================] - 0s 5ms/step - loss: 8.4619 - accuracy: 0.4514 - val_loss: 8.3446 - val_accuracy: 0.4590\n",
      "Epoch 99/100\n",
      "31/31 [==============================] - 0s 5ms/step - loss: 8.4619 - accuracy: 0.4514 - val_loss: 8.3446 - val_accuracy: 0.4590\n",
      "Epoch 100/100\n",
      "31/31 [==============================] - 0s 5ms/step - loss: 8.4619 - accuracy: 0.4514 - val_loss: 8.3446 - val_accuracy: 0.4590\n"
     ]
    }
   ],
   "source": [
    "model.compile(loss='binary_crossentropy',\n",
    "              optimizer=RMSprop(learning_rate=0.001),\n",
    "              metrics='accuracy')\n",
    "\n",
    "history = model.fit(X_train, y_train, epochs=100,\n",
    "                    validation_data=(X_val, y_val))"
   ]
  },
  {
   "cell_type": "code",
   "execution_count": 120,
   "metadata": {},
   "outputs": [
    {
     "name": "stdout",
     "output_type": "stream",
     "text": [
      "8/8 - 0s - loss: 9.0400 - accuracy: 0.4139 - 24ms/epoch - 3ms/step\n"
     ]
    },
    {
     "data": {
      "image/png": "[encoded data removed]",
      "text/plain": [
       "<Figure size 432x288 with 1 Axes>"
      ]
     },
     "metadata": {
      "needs_background": "light"
     },
     "output_type": "display_data"
    }
   ],
   "source": [
    "import matplotlib.pyplot as plt\n",
    "\n",
    "plt.plot(history.history['accuracy'], label='accuracy')\n",
    "plt.plot(history.history['val_accuracy'], label = 'val_accuracy')\n",
    "plt.xlabel('Epoch')\n",
    "plt.ylabel('Accuracy')\n",
    "plt.ylim([0.3, 1])\n",
    "plt.legend(loc='lower right')\n",
    "\n",
    "test_loss, test_acc = model.evaluate(X_test,  y_test, verbose=2)"
   ]
  },
  {
   "cell_type": "code",
   "execution_count": 121,
   "metadata": {},
   "outputs": [
    {
     "name": "stdout",
     "output_type": "stream",
     "text": [
      "pred shape (10, 1)\n"
     ]
    }
   ],
   "source": [
    "predictions = model.predict(X_test[:10])\n",
    "print(\"pred shape\", predictions.shape)"
   ]
  },
  {
   "cell_type": "code",
   "execution_count": 122,
   "metadata": {},
   "outputs": [
    {
     "name": "stdout",
     "output_type": "stream",
     "text": [
      "[0 0 0 0 0 0 0 0 0 0]\n"
     ]
    }
   ],
   "source": [
    "predgenre = np.argmax(predictions,axis=1)\n",
    "print(predgenre)\n",
    "#print(genre)"
   ]
  }
 ],
 "metadata": {
  "interpreter": {
   "hash": "73cdb8068fb29a4d992b50a8130c5699128e49a23c234139f6f5107947219a38"
  },
  "kernelspec": {
   "display_name": "Python 3.8.10 64-bit (windows store)",
   "language": "python",
   "name": "python3"
  },
  "language_info": {
   "codemirror_mode": {
    "name": "ipython",
    "version": 3
   },
   "file_extension": ".py",
   "mimetype": "text/x-python",
   "name": "python",
   "nbconvert_exporter": "python",
   "pygments_lexer": "ipython3",
   "version": "3.10.4"
  },
  "orig_nbformat": 4
 },
 "nbformat": 4,
 "nbformat_minor": 2
}
